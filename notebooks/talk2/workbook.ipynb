{
 "cells": [
  {
   "cell_type": "code",
   "execution_count": null,
   "metadata": {
    "cell_style": "center",
    "slideshow": {
     "slide_type": "skip"
    },
    "tags": [
     "remove-cell"
    ]
   },
   "outputs": [],
   "source": [
    "import pandas as pd\n",
    "\n",
    "import altair as alt\n",
    "alt.data_transformers.disable_max_rows()\n",
    "\n",
    "import matplotlib.pyplot as plt\n",
    "\n",
    "\n",
    "from vega_datasets import data\n",
    "mtcars = data.cars()\n",
    "\n",
    "## Set Altair default size\n",
    "\n",
    "def theme_fm(*args, **kwargs):\n",
    "    return {'height': 220,\n",
    "            'width' : 220,\n",
    "            'config': {'style': {'circle': {'size': 400},\n",
    "                                'point': {'size': 30},\n",
    "                                'square': {'size': 400},\n",
    "                                },\n",
    "                       'legend': {'symbolSize': 20, 'titleFontSize': 20, 'labelFontSize': 20}, \n",
    "                       'axis': {'titleFontSize': 20, 'labelFontSize': 20}},\n",
    "            }\n",
    "\n",
    "alt.themes.register('theme_fm', theme_fm)\n",
    "alt.themes.enable('theme_fm')"
   ]
  },
  {
   "cell_type": "markdown",
   "metadata": {
    "hideCode": false,
    "hidePrompt": false,
    "slideshow": {
     "slide_type": "slide"
    }
   },
   "source": [
    "# Exploratory Data Analysis with Altair\n",
    "\n",
    "<img src=\"imgs/viz.jpg\" align=\"center\" width=100%>\n",
    "\n",
    "<p style=\"text-align:left;\">\n",
    "    Photo by <a href=\"https://www.pexels.com/@rodnae-prod\">RODNAE Productions</a> from <a href=\"https://www.pexels.com/photo/magnifying-glass-on-white-paper-7948038/\">Pexels</a>\n",
    "    <span style=\"float:right;\">\n",
    "        March 25, 2022 <br>\n",
    "        Firas Moosvi\n",
    "    </span>\n",
    "</p>"
   ]
  },
  {
   "cell_type": "code",
   "execution_count": null,
   "metadata": {
    "hideCode": false,
    "hidePrompt": false,
    "slideshow": {
     "slide_type": "subslide"
    }
   },
   "outputs": [],
   "source": [
    "## We'll be using the mtcars dataset for the first part of this lecture\n",
    "\n",
    "mtcars.head()"
   ]
  },
  {
   "cell_type": "markdown",
   "metadata": {
    "cell_style": "center",
    "hideCode": false,
    "hidePrompt": false,
    "slideshow": {
     "slide_type": "subslide"
    }
   },
   "source": [
    "## Starting with the punchline!\n",
    "\n",
    "By the end of class today, you will learn how to make this chart using the `mtcars` dataset:"
   ]
  },
  {
   "cell_type": "code",
   "execution_count": null,
   "metadata": {
    "cell_style": "center",
    "hideCode": false,
    "hidePrompt": false,
    "slideshow": {
     "slide_type": "fragment"
    }
   },
   "outputs": [],
   "source": [
    "base = alt.Chart(mtcars).mark_point().encode(\n",
    "    alt.X('Horsepower'),\n",
    "    alt.Y('Miles_per_Gallon'),\n",
    "    alt.Color('Origin'),\n",
    "    alt.Column('Origin')\n",
    ") \n",
    "\n",
    "base.interactive()"
   ]
  },
  {
   "cell_type": "markdown",
   "metadata": {
    "hideCode": false,
    "hidePrompt": false,
    "slideshow": {
     "slide_type": "subslide"
    }
   },
   "source": [
    "### In matplotlib:\n",
    "\n",
    "If you're familiar with `matplotlib`, this should illustrate to you **how** Altair is different - not better or worse, just *differently sane* (h/t [Greg Wilson](https://tidynomicon.tech))."
   ]
  },
  {
   "cell_type": "code",
   "execution_count": null,
   "metadata": {
    "hideCode": false,
    "hidePrompt": false,
    "slideshow": {
     "slide_type": "fragment"
    }
   },
   "outputs": [],
   "source": [
    "colour_map = dict(zip(mtcars['Origin'].unique(), ['red','lightblue','orange']))\n",
    "n_panels = len(colour_map)\n",
    "\n",
    "fig, ax = plt.subplots(1, n_panels, figsize=(n_panels * 6, 5),\n",
    "                       sharex = True, sharey = True)\n",
    "\n",
    "for i, (country,group) in enumerate(mtcars.groupby('Origin')):\n",
    "    ax[i].scatter(group['Horsepower'],\n",
    "                  group['Miles_per_Gallon'],\n",
    "                  label = country,\n",
    "                  color = colour_map[country])\n",
    "    ax[i].legend(title='Origin')\n",
    "    ax[i].grid()\n",
    "    ax[i].set_xlabel('Horsepower')\n",
    "    ax[i].set_ylabel('Miles_per_Gallon')"
   ]
  },
  {
   "cell_type": "markdown",
   "metadata": {
    "hideCode": false,
    "hidePrompt": false,
    "slideshow": {
     "slide_type": "subslide"
    }
   },
   "source": [
    "### 1. Tabular Data\n",
    "\n",
    "Data in Altair is built around the [Pandas DataFrame](http://pandas.pydata.org/pandas-docs/stable/generated/pandas.DataFrame.html).\n",
    "\n",
    "The fundamental object in Altair is the ``Chart``. It takes the dataframe as a single argument:\n",
    "\n",
    "```chart = alt.Chart(DataFrame)```"
   ]
  },
  {
   "cell_type": "markdown",
   "metadata": {
    "hideCode": false,
    "hidePrompt": false,
    "slideshow": {
     "slide_type": "subslide"
    }
   },
   "source": [
    "Let's create a simple `DataFrame` to visualize, with a categorical data in the `Letters` column and numerical data in the `Numbers` column:"
   ]
  },
  {
   "cell_type": "code",
   "execution_count": null,
   "metadata": {
    "hideCode": false,
    "hidePrompt": false,
    "slideshow": {
     "slide_type": "fragment"
    }
   },
   "outputs": [],
   "source": [
    "df = pd.DataFrame({'Letters': list('CCCDDDEEE'),\n",
    "                     'Numbers': [2, 7, 4, 1, 2, 6, 8, 4, 7]})\n",
    "df.T"
   ]
  },
  {
   "cell_type": "code",
   "execution_count": null,
   "metadata": {
    "hideCode": false,
    "hidePrompt": false,
    "slideshow": {
     "slide_type": "fragment"
    }
   },
   "outputs": [],
   "source": [
    "plot = alt.Chart(df)\n",
    "\n",
    "#plot "
   ]
  },
  {
   "cell_type": "markdown",
   "metadata": {
    "cell_style": "split",
    "hideCode": false,
    "hidePrompt": false,
    "slideshow": {
     "slide_type": "subslide"
    }
   },
   "source": [
    "### 2. Chart Marks\n",
    "\n",
    "Next we can decide what sort of *mark* we would like to use to represent our data.\n",
    "\n",
    "Here are some of the more commonly used `mark_*()` methods supported in Altair and Vega-Lite; for more detail see [Marks](https://altair-viz.github.io/user_guide/marks.html) in the Altair documentation:"
   ]
  },
  {
   "cell_type": "markdown",
   "metadata": {
    "cell_style": "split",
    "hideCode": false,
    "hidePrompt": false,
    "slideshow": {
     "slide_type": "fragment"
    }
   },
   "source": [
    "|Mark|\n",
    "|------|\n",
    "|`mark_area()`|\n",
    "|`mark_bar()`|\n",
    "|`mark_circle()`, `mark_point`, `mark_square`|\n",
    "|`mark_rect()`|\n",
    "|`mark_line()`|\n",
    "|`mark_rule()`|\n",
    "|`mark_text()`|\n",
    "|`mark_image()`|"
   ]
  },
  {
   "cell_type": "markdown",
   "metadata": {
    "hideCode": false,
    "hidePrompt": false,
    "slideshow": {
     "slide_type": "subslide"
    }
   },
   "source": [
    "Let's add a mark_point() to our plot:"
   ]
  },
  {
   "cell_type": "code",
   "execution_count": null,
   "metadata": {
    "hideCode": false,
    "hidePrompt": false,
    "slideshow": {
     "slide_type": "fragment"
    }
   },
   "outputs": [],
   "source": [
    "plot = alt.Chart(df).mark_point()\n",
    "\n",
    "plot"
   ]
  },
  {
   "cell_type": "markdown",
   "metadata": {
    "hideCode": false,
    "hidePrompt": false,
    "slideshow": {
     "slide_type": "fragment"
    }
   },
   "source": [
    "😒 \n",
    "\n",
    "We have a plot now, but clearly we're being pranked: all the data points collapsed to one location! Why ?"
   ]
  },
  {
   "cell_type": "markdown",
   "metadata": {
    "hideCode": false,
    "hidePrompt": false,
    "slideshow": {
     "slide_type": "subslide"
    }
   },
   "source": [
    "<img src=\"imgs/Visualization-Grammar4.jpeg\" align=\"center\">\n",
    "    \n",
    "Slide used with permission from [Eitan Lees](https://eitanlees.github.io/altair-stack/)"
   ]
  },
  {
   "cell_type": "code",
   "execution_count": null,
   "metadata": {},
   "outputs": [],
   "source": [
    "### 3. Chart Encoding"
   ]
  },
  {
   "cell_type": "markdown",
   "metadata": {
    "hideCode": false,
    "hidePrompt": false,
    "slideshow": {
     "slide_type": "subslide"
    }
   },
   "source": [
    "Let's add an encoding so the data is mapped to the x and y axes:"
   ]
  },
  {
   "cell_type": "code",
   "execution_count": null,
   "metadata": {
    "hideCode": false,
    "hidePrompt": false,
    "slideshow": {
     "slide_type": "fragment"
    }
   },
   "outputs": [],
   "source": [
    "plot = alt.Chart(df).mark_point().encode(alt.X('Numbers'))\n",
    "\n",
    "plot\n",
    "\n",
    "# We still haven't encoded any of the data to the Y-axis!"
   ]
  },
  {
   "cell_type": "markdown",
   "metadata": {
    "hideCode": false,
    "hidePrompt": false,
    "slideshow": {
     "slide_type": "subslide"
    }
   },
   "source": [
    "#### Activity : You Try!\n",
    "\n",
    "Encode the `Letters` column at the `y` position to make the visualization more useful."
   ]
  },
  {
   "cell_type": "code",
   "execution_count": null,
   "metadata": {
    "hideCode": false,
    "hidePrompt": false,
    "slideshow": {
     "slide_type": "fragment"
    }
   },
   "outputs": [],
   "source": [
    "plot = alt.Chart(df).mark_point().encode(alt.X('Numbers'),\n",
    "                                         alt.Y('Letters'),\n",
    "                                         )\n",
    "# first chart"
   ]
  },
  {
   "cell_type": "markdown",
   "metadata": {
    "hideCode": false,
    "hidePrompt": false,
    "slideshow": {
     "slide_type": "subslide"
    }
   },
   "source": [
    "#### Activity : You Try!\n",
    "\n",
    "Change the `mark` from `mark_point()` to `mark_circle` or `mark_square`"
   ]
  },
  {
   "cell_type": "code",
   "execution_count": 1,
   "metadata": {
    "hideCode": false,
    "hidePrompt": false,
    "slideshow": {
     "slide_type": "fragment"
    }
   },
   "outputs": [
    {
     "ename": "NameError",
     "evalue": "name 'plot' is not defined",
     "output_type": "error",
     "traceback": [
      "\u001b[0;31m---------------------------------------------------------------------------\u001b[0m",
      "\u001b[0;31mNameError\u001b[0m                                 Traceback (most recent call last)",
      "Input \u001b[0;32mIn [1]\u001b[0m, in \u001b[0;36m<cell line: 1>\u001b[0;34m()\u001b[0m\n\u001b[0;32m----> 1\u001b[0m plot \u001b[38;5;241m=\u001b[39m \u001b[43mplot\u001b[49m\n",
      "\u001b[0;31mNameError\u001b[0m: name 'plot' is not defined"
     ]
    }
   ],
   "source": [
    "plot = plot ## YOUR SOLUTION HERE\n"
   ]
  },
  {
   "cell_type": "markdown",
   "metadata": {
    "hideCode": false,
    "hidePrompt": false,
    "slideshow": {
     "slide_type": "subslide"
    }
   },
   "source": [
    "#### Activity : You Try!\n",
    "\n",
    "What do you think will happen when you try to change the `mark_circle` to a `mark_bar()`"
   ]
  },
  {
   "cell_type": "code",
   "execution_count": null,
   "metadata": {
    "hideCode": false,
    "hidePrompt": false,
    "slideshow": {
     "slide_type": "fragment"
    }
   },
   "outputs": [],
   "source": [
    "plot ## YOUR SOLUTION HERE"
   ]
  },
  {
   "cell_type": "markdown",
   "metadata": {
    "hideCode": false,
    "hidePrompt": false,
    "slideshow": {
     "slide_type": "subslide"
    }
   },
   "source": [
    "### 4. Transforms\n",
    "\n",
    "Though Altair supports a few built-in data transformations and aggregations, in general I **do not suggest** you use them.\n",
    "\n",
    "Some reasons why:\n",
    "\n",
    "- Not all functions are available\n",
    "- You already know how to do complex wrangling using pandas\n",
    "- No opportunity to write tests if wrangling is done within plots\n",
    "- Single point of failure\n",
    "- Syntax is non-trivial and not very \"pythonic\"\n",
    "- Code is less readable and harder to document"
   ]
  },
  {
   "cell_type": "markdown",
   "metadata": {
    "hideCode": false,
    "hidePrompt": false,
    "slideshow": {
     "slide_type": "subslide"
    }
   },
   "source": [
    "### 5. Scale\n",
    "\n",
    "The scale parameter controls axis limits, axis types (`log`, `semi-log`, etc...).\n",
    "\n",
    "For a complete description of the available options, see the [Scales and Guides](https://altair-viz.github.io/user_guide/scale_resolve.html) section of the documentation."
   ]
  },
  {
   "cell_type": "code",
   "execution_count": null,
   "metadata": {
    "hideCode": false,
    "hidePrompt": false,
    "slideshow": {
     "slide_type": "fragment"
    }
   },
   "outputs": [],
   "source": [
    "plot = alt.Chart(df).mark_point().encode(\n",
    "            alt.X('Numbers'),\n",
    "            alt.Y('Letters'))\n",
    "\n",
    "plot.encode(alt.X('Numbers', \n",
    "                  scale = alt.Scale(type='log')))"
   ]
  },
  {
   "cell_type": "markdown",
   "metadata": {
    "hideCode": false,
    "hidePrompt": false,
    "slideshow": {
     "slide_type": "subslide"
    }
   },
   "source": [
    "<img src=\"imgs/Visualization-Grammar7.jpeg\" align=\"center\">\n",
    "    \n",
    "Slide used with permission from [Eitan Lees](https://eitanlees.github.io/altair-stack/)"
   ]
  },
  {
   "cell_type": "markdown",
   "metadata": {
    "hideCode": false,
    "hidePrompt": false,
    "slideshow": {
     "slide_type": "subslide"
    }
   },
   "source": [
    "### 6. Guide\n",
    "\n",
    "The guides component deals with legends and annotations that \"guide\" our interpretation of the data. In most cases you will not need to work with this component very much as the defaults are pretty good!\n",
    "\n",
    "For a complete description of the available options, see the [Scales and Guides](https://altair-viz.github.io/user_guide/scale_resolve.html) section of the documentation."
   ]
  },
  {
   "cell_type": "markdown",
   "metadata": {
    "hideCode": false,
    "hidePrompt": false,
    "slideshow": {
     "slide_type": "subslide"
    }
   },
   "source": [
    "## Interactive Altair (5 mins)"
   ]
  },
  {
   "cell_type": "code",
   "execution_count": null,
   "metadata": {
    "cell_style": "split",
    "hideCode": false,
    "hidePrompt": false,
    "slideshow": {
     "slide_type": "fragment"
    }
   },
   "outputs": [],
   "source": [
    "# Altair \n",
    "\n",
    "## To uncomment the code chunk below, select it\n",
    "## and press Command + / (or Control + /)\n",
    "\n",
    "first_chart = alt.Chart(mtcars).mark_point().encode(\n",
    "    alt.X('Horsepower'),\n",
    "    alt.Y('Miles_per_Gallon'),\n",
    "    alt.Color('Origin'),\n",
    "    alt.Row('Origin')\n",
    ")\n",
    "first_chart.interactive()"
   ]
  },
  {
   "cell_type": "markdown",
   "metadata": {
    "hideCode": false,
    "hidePrompt": false,
    "slideshow": {
     "slide_type": "subslide"
    }
   },
   "source": [
    "### One more thing..."
   ]
  },
  {
   "cell_type": "code",
   "execution_count": null,
   "metadata": {
    "hideCode": false,
    "hidePrompt": false,
    "slideshow": {
     "slide_type": "fragment"
    }
   },
   "outputs": [],
   "source": [
    "chart = alt.Chart(mtcars).mark_point().encode(\n",
    "            alt.Y('Horsepower'),\n",
    "            alt.X('Miles_per_Gallon')).interactive()\n",
    "\n",
    "# Combine multiple charts together\n",
    "\n",
    "chart"
   ]
  },
  {
   "cell_type": "markdown",
   "metadata": {
    "slideshow": {
     "slide_type": "slide"
    }
   },
   "source": [
    "## Motivating the need for EDA (20 mins)\n",
    "\n",
    "- Let's put our new skills to work with an example dataset!"
   ]
  },
  {
   "cell_type": "markdown",
   "metadata": {
    "cell_style": "split",
    "slideshow": {
     "slide_type": "subslide"
    }
   },
   "source": [
    "### Scenario\n",
    "\n",
    "You have been given a dataset and tasked with trying to solve a problem.\n",
    "In WW2, expensive fighter planes were going down quite frequently due to bullet fire.\n",
    "The military decided to conduct an analysis and surveyed all the surviving planes in an effort to catalogue which regions of the plane should be reinforced.\n",
    "\n",
    "With limited resources, the military could only reinforce a maximum of two zones.\n",
    "\n",
    "**Your task is to look at the bullet data for the planes and help determine which areas of the plane should be reinforced.**"
   ]
  },
  {
   "cell_type": "markdown",
   "metadata": {
    "cell_style": "split",
    "slideshow": {
     "slide_type": "fragment"
    }
   },
   "source": [
    "You're given a schematic of the plane, and told that the workers added a grid to the schematic, divided it up into regions A,B,C,D,E and recorded a value of 1 wherever there was a bullet hole across all the planes that returned.\n",
    "\n",
    "Areas without bullet holes are marked as 0.\n",
    "They gave you a csv file with this information called [`bullet_data.csv`](https://github.com/firasm/bits/raw/master/bullet_data.csv).\n",
    "\n",
    "Yes, these WW2 workers are very sophisticated and had access to a fancy computer!"
   ]
  },
  {
   "cell_type": "markdown",
   "metadata": {
    "cell_style": "split",
    "slideshow": {
     "slide_type": "fragment"
    }
   },
   "source": [
    "<img src=\"imgs/plane.png\" width=50% align=\"center\">"
   ]
  },
  {
   "cell_type": "markdown",
   "metadata": {
    "slideshow": {
     "slide_type": "fragment"
    }
   },
   "source": [
    "`bullet_data.csv` is available here: https://github.com/firasm/bits/raw/master/bullet_data.csv"
   ]
  },
  {
   "cell_type": "code",
   "execution_count": null,
   "metadata": {
    "slideshow": {
     "slide_type": "fragment"
    }
   },
   "outputs": [],
   "source": [
    "df = pd.read_csv('https://github.com/firasm/bits/raw/master/bullet_data.csv')\n",
    "df.head()"
   ]
  },
  {
   "cell_type": "code",
   "execution_count": null,
   "metadata": {
    "slideshow": {
     "slide_type": "fragment"
    }
   },
   "outputs": [],
   "source": [
    "# Use our standard tool first:\n",
    "\n",
    "df.describe().T"
   ]
  },
  {
   "cell_type": "markdown",
   "metadata": {
    "slideshow": {
     "slide_type": "fragment"
    }
   },
   "source": [
    "`describe()` didn't quite organize the data like the way we wanted, let's try and figure out some more info manually."
   ]
  },
  {
   "cell_type": "code",
   "execution_count": null,
   "metadata": {
    "slideshow": {
     "slide_type": "subslide"
    }
   },
   "outputs": [],
   "source": [
    "print(\"The zones are: {0}\".format(sorted(set(df['zone']))),\"\\n\")\n",
    "\n",
    "print(\"Columns are: {0}\".format(list(df.columns)),\"\\n\")\n",
    "\n",
    "print(\"Values for 'bullet' column is {0}\".format(sorted(df['bullet'].unique())),\"\\n\")"
   ]
  },
  {
   "cell_type": "markdown",
   "metadata": {
    "slideshow": {
     "slide_type": "subslide"
    }
   },
   "source": [
    "Let's wrangle the data a bit to try and see what's going on:"
   ]
  },
  {
   "cell_type": "code",
   "execution_count": null,
   "metadata": {
    "slideshow": {
     "slide_type": "fragment"
    }
   },
   "outputs": [],
   "source": [
    "# First, only consider the bullet 'hits':\n",
    "\n",
    "## YOUR SOLUTION HERE"
   ]
  },
  {
   "cell_type": "markdown",
   "metadata": {},
   "source": [
    "#### Activity: Produce a `hits_df` that groups by Zone and reports the bullet hits in each zone"
   ]
  },
  {
   "cell_type": "code",
   "execution_count": 3,
   "metadata": {
    "slideshow": {
     "slide_type": "fragment"
    }
   },
   "outputs": [],
   "source": [
    "## YOUR SOLUTION HERE"
   ]
  },
  {
   "cell_type": "markdown",
   "metadata": {},
   "source": [
    "#### Activity: Visualize the `hits_df` as a bar graph"
   ]
  },
  {
   "cell_type": "code",
   "execution_count": 4,
   "metadata": {
    "slideshow": {
     "slide_type": "fragment"
    }
   },
   "outputs": [],
   "source": [
    "## YOUR SOLUTION HERE"
   ]
  },
  {
   "cell_type": "markdown",
   "metadata": {},
   "source": [
    "#### Activity: Visualize the 2D hits on the plane"
   ]
  },
  {
   "cell_type": "code",
   "execution_count": null,
   "metadata": {
    "slideshow": {
     "slide_type": "subslide"
    }
   },
   "outputs": [],
   "source": [
    "## YOUR SOLUTION HERE"
   ]
  },
  {
   "cell_type": "markdown",
   "metadata": {
    "slideshow": {
     "slide_type": "subslide"
    }
   },
   "source": [
    "### Debrief\n",
    "\n",
    "- Look at your data!\n",
    "- Talk to someone about your data!\n",
    "- Look at your data another way!\n",
    "- Think about your data and what it means!\n",
    "- Exploratory Data Analysis is **essential**!"
   ]
  },
  {
   "cell_type": "markdown",
   "metadata": {
    "slideshow": {
     "slide_type": "slide"
    }
   },
   "source": [
    "## Activity: You Try (homework)\n",
    "\n",
    "- Task: Select a plot from the [\"Interactive Charts\" section of the Altair gallery](https://altair-viz.github.io/gallery/index.html#interactive-charts) and reproduce the plot in a Jupyter Notebook.\n",
    "\n",
    "<img src=\"imgs/altair_gallery.png\" width=60% align=\"center\">\n",
    "\n",
    "We will review these examples at the start of next class!"
   ]
  },
  {
   "cell_type": "code",
   "execution_count": null,
   "metadata": {},
   "outputs": [],
   "source": []
  }
 ],
 "metadata": {
  "celltoolbar": "Tags",
  "hide_code_all_hidden": false,
  "kernelspec": {
   "display_name": "Python 3 (ipykernel)",
   "language": "python",
   "name": "python3"
  },
  "language_info": {
   "codemirror_mode": {
    "name": "ipython",
    "version": 3
   },
   "file_extension": ".py",
   "mimetype": "text/x-python",
   "name": "python",
   "nbconvert_exporter": "python",
   "pygments_lexer": "ipython3",
   "version": "3.10.2"
  }
 },
 "nbformat": 4,
 "nbformat_minor": 4
}

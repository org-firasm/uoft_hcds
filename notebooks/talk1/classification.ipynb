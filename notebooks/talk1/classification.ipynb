{
 "cells": [
  {
   "cell_type": "markdown",
   "id": "a03c270f-f62c-4e90-8f66-0a821216d9e3",
   "metadata": {
    "hideCode": false,
    "hidePrompt": false,
    "slideshow": {
     "slide_type": "slide"
    }
   },
   "source": [
    "# Introduction to Classification using Machine Learning\n",
    "\n",
    "<img src=\"imgs/brain_learning.jpg\">\n",
    "\n",
    "<p style=\"text-align:left;\">\n",
    "    <a href=\"https://pixabay.com/illustrations/brain-chip-neurons-machine-learning-6010961/\">Photo Credit: Pixabay</a>\n",
    "    <span style=\"float:right;\">\n",
    "        March 21, 2022 <br>\n",
    "        Firas Moosvi\n",
    "    </span>\n",
    "</p>"
   ]
  },
  {
   "cell_type": "markdown",
   "id": "8c114734-4b99-471f-9b3b-aede92edfcf0",
   "metadata": {
    "tags": []
   },
   "source": [
    "## Learning Context (5 mins)\n",
    "\n",
    "<center>\n",
    "<img src=\"imgs/avatars.jpg\" width=50%>\n",
    "</center>"
   ]
  },
  {
   "cell_type": "markdown",
   "id": "6dc58a61-6652-4abd-90c2-b32f9aeb8719",
   "metadata": {
    "cell_style": "center",
    "hideCode": false,
    "hidePrompt": false,
    "slideshow": {
     "slide_type": "subslide"
    }
   },
   "source": [
    "### Academic program:\n",
    "\n",
    "- Year 2 of the iSchool Master of Information program\n",
    "- Concentration: Primarily HCDS students, some UXD, and C&T"
   ]
  },
  {
   "cell_type": "markdown",
   "id": "4c998b79-847f-4a4d-b81d-ff4e30504a48",
   "metadata": {},
   "source": [
    "### Course Details\n",
    "\n",
    "- INF 2179 - Machine Learning with Applications in Python\n",
    "- **Prerequisite**:\n",
    "    - INF 1340 - Programming for Data Science\n",
    "- Elective course\n",
    "- Almost everyone in here wants to be here and is excited to learn more!"
   ]
  },
  {
   "cell_type": "markdown",
   "id": "37a951c6-40a6-4fb7-8af8-d7df44dca771",
   "metadata": {},
   "source": [
    "### Course Schedule\n",
    "\n",
    "- Week 1: Review of Python\n",
    "- Week 2: Loading and cleaning data\n",
    "- Week 3: Data wrangling\n",
    "- Week 4: This lesson (Introduction to Classification)"
   ]
  },
  {
   "cell_type": "markdown",
   "id": "8ad43002-98e6-4323-95d6-81932b98321d",
   "metadata": {
    "cell_style": "center",
    "hideCode": false,
    "hidePrompt": false,
    "slideshow": {
     "slide_type": "fragment"
    }
   },
   "source": [
    "### Programming Experience\n",
    "\n",
    "- Least experienced: Two terms of working in Python and R sporadically\n",
    "- Most experienced:  Worked in software industry for 2+ years\n",
    "- ~ 50 students in the class"
   ]
  },
  {
   "cell_type": "markdown",
   "id": "8dc46e6e-2f9d-4525-97c4-0f17e8064d78",
   "metadata": {
    "hideCode": false,
    "hidePrompt": false,
    "slideshow": {
     "slide_type": "slide"
    }
   },
   "source": [
    "### Learning Intentions"
   ]
  },
  {
   "cell_type": "markdown",
   "id": "818ee1b2-c490-47b0-b753-3914ecf8bc72",
   "metadata": {
    "hideCode": false,
    "hidePrompt": false,
    "slideshow": {
     "slide_type": "fragment"
    }
   },
   "source": [
    "- Develop intuition about classification using machine learning."
   ]
  },
  {
   "cell_type": "markdown",
   "id": "818ab7e9-536a-44e3-8f1e-e2cf6d70c6a7",
   "metadata": {
    "hideCode": false,
    "hidePrompt": false,
    "slideshow": {
     "slide_type": "fragment"
    }
   },
   "source": [
    "- Identify the general steps of classification using machine learning."
   ]
  },
  {
   "cell_type": "markdown",
   "id": "be7e54d4-a3af-4be7-b0db-41a278d26351",
   "metadata": {
    "hideCode": false,
    "hidePrompt": false,
    "slideshow": {
     "slide_type": "fragment"
    }
   },
   "source": [
    "- Summarize the kNN algorithm and examine its advantages and limitations."
   ]
  },
  {
   "cell_type": "markdown",
   "id": "0e76fcba-1fc1-473c-96f9-2f0a5dcd72b1",
   "metadata": {
    "hideCode": false,
    "hidePrompt": false,
    "slideshow": {
     "slide_type": "fragment"
    }
   },
   "source": [
    "- Critically evaluate the machine learning process and consider the importance of making human-centered choices."
   ]
  },
  {
   "cell_type": "markdown",
   "id": "2289c326-6f5e-4008-b486-0bb563137ec7",
   "metadata": {
    "cell_style": "center",
    "hideCode": false,
    "hidePrompt": false,
    "slideshow": {
     "slide_type": "subslide"
    }
   },
   "source": [
    "## Overview (1 min)\n",
    "\n",
    "In today's class we will discuss how to classify data using Machine Learning."
   ]
  },
  {
   "cell_type": "markdown",
   "id": "d569b198-fdc9-47e4-a10b-92d718045807",
   "metadata": {},
   "source": [
    "Here is the general algorithm for a machine learning process, for which Classification is a subset:\n",
    "\n",
    "<img src=\"https://www.sap.com/dam/application/shared/graphics/what-is-machine-learning-process.svg\" width=100%>\n",
    "\n",
    "**Caption**: General workflow of the Machine Learning process. Image is copyright of [SAP Insights](https://www.sap.com/canada/insights/what-is-machine-learning.html), used under the copyright exception."
   ]
  },
  {
   "cell_type": "markdown",
   "id": "1f25c246-7b97-4df4-9d10-b66fa83abf04",
   "metadata": {},
   "source": [
    "## Building some intuition I (6 mins)\n",
    "\n",
    "### Activity (3 mins)\n",
    "\n",
    "- Set up a Game\n",
    "    - We are going to see a series of objects, and your task is just to say \"up\" or \"down\".\n",
    "    - After you vote, I will show you the \"answer\".\n",
    "    - As we see more, you should get more and more accurate\n",
    "    - Deciding whether or not to give instructions\n",
    "    - Ask students to practice Zoom Annotations\n",
    "- Show processing sketch (space for next, up for 1, down for 0)\n",
    "- Show about 10-15 of these shapes to give people an intuition"
   ]
  },
  {
   "cell_type": "markdown",
   "id": "66e858bd-fcbb-4f32-baf6-09acc3d25fa2",
   "metadata": {},
   "source": [
    "<img src=\"imgs/shape.png\" align=\"center\" width=60%>"
   ]
  },
  {
   "cell_type": "markdown",
   "id": "c857dc6d-f652-4c4a-bccf-e475c02c87cb",
   "metadata": {},
   "source": [
    "### Debrief (3 mins)\n",
    "\n",
    "- What made you decide \"up\" or \"down\"?\n",
    "- What \"attributes\" did you use to make a decision?\n",
    "    - Attributes\n",
    "    - Traits\n",
    "    - Features\n",
    "    - Variables\n",
    "- Which of them were quantitative, and which were qualitative?\n",
    "    - Colour: qualitative\n",
    "    - Points: quantitative\n",
    "    - Curved: binary\n",
    "    - Transparency (after looking at enough of them, you will see that the colour is a red herring! It's actually the transparency that seems to matter)\n",
    "    "
   ]
  },
  {
   "cell_type": "markdown",
   "id": "87dc7849-402e-40a8-91f2-b0c8d0370bb3",
   "metadata": {},
   "source": [
    "- Can you imagine a computer doing the same task?\n",
    "- What changes would you make to adapt this task for a machine?\n",
    "    - Count number of points\n",
    "    - Quantify the shape\n",
    "    - Curved or not\n",
    "    - Colour or Transparency"
   ]
  },
  {
   "cell_type": "markdown",
   "id": "ee86e885-bf04-4137-8893-3c99dca4c8b6",
   "metadata": {},
   "source": [
    "### Classification Process (2 mins)\n",
    "\n",
    "This is the Classification process:\n",
    "\n",
    "1. Start with a \"Training data set\" where the classification (answer) is known.\n",
    "2. Build a model based on the \"learning\" that happens (with the training dataset).\n",
    "3. Use the model on a different, previously unseen data set, \"Test data set\" to classify it into categories.\n",
    "4. Check the accuracy of the model.\n",
    "    \n",
    "<img src=\"\" width=100%>\n",
    "\n",
    "**Caption**: "
   ]
  },
  {
   "cell_type": "code",
   "execution_count": 47,
   "id": "98992f3d-26c3-4233-83d5-d073a9dad78e",
   "metadata": {},
   "outputs": [],
   "source": [
    "from pandas import *\n",
    "from altair import *"
   ]
  },
  {
   "cell_type": "markdown",
   "id": "afdacaef-5cb5-47f2-9602-ea5e4d4a4d84",
   "metadata": {},
   "source": [
    "## Load and Visualize Data (1 mins)"
   ]
  },
  {
   "cell_type": "code",
   "execution_count": 48,
   "id": "69e9df97-8dc6-4f3d-85e1-19a54d2c4329",
   "metadata": {},
   "outputs": [
    {
     "data": {
      "text/html": [
       "<div>\n",
       "<style scoped>\n",
       "    .dataframe tbody tr th:only-of-type {\n",
       "        vertical-align: middle;\n",
       "    }\n",
       "\n",
       "    .dataframe tbody tr th {\n",
       "        vertical-align: top;\n",
       "    }\n",
       "\n",
       "    .dataframe thead th {\n",
       "        text-align: right;\n",
       "    }\n",
       "</style>\n",
       "<table border=\"1\" class=\"dataframe\">\n",
       "  <thead>\n",
       "    <tr style=\"text-align: right;\">\n",
       "      <th></th>\n",
       "      <th>brightness</th>\n",
       "      <th>points</th>\n",
       "      <th>curve</th>\n",
       "      <th>up_down</th>\n",
       "    </tr>\n",
       "  </thead>\n",
       "  <tbody>\n",
       "    <tr>\n",
       "      <th>0</th>\n",
       "      <td>19</td>\n",
       "      <td>0</td>\n",
       "      <td>0</td>\n",
       "      <td>1</td>\n",
       "    </tr>\n",
       "    <tr>\n",
       "      <th>1</th>\n",
       "      <td>20</td>\n",
       "      <td>0</td>\n",
       "      <td>0</td>\n",
       "      <td>1</td>\n",
       "    </tr>\n",
       "    <tr>\n",
       "      <th>2</th>\n",
       "      <td>21</td>\n",
       "      <td>0</td>\n",
       "      <td>0</td>\n",
       "      <td>1</td>\n",
       "    </tr>\n",
       "    <tr>\n",
       "      <th>3</th>\n",
       "      <td>22</td>\n",
       "      <td>0</td>\n",
       "      <td>0</td>\n",
       "      <td>1</td>\n",
       "    </tr>\n",
       "    <tr>\n",
       "      <th>4</th>\n",
       "      <td>22</td>\n",
       "      <td>3</td>\n",
       "      <td>0</td>\n",
       "      <td>1</td>\n",
       "    </tr>\n",
       "  </tbody>\n",
       "</table>\n",
       "</div>"
      ],
      "text/plain": [
       "   brightness  points  curve  up_down\n",
       "0          19       0      0        1\n",
       "1          20       0      0        1\n",
       "2          21       0      0        1\n",
       "3          22       0      0        1\n",
       "4          22       3      0        1"
      ]
     },
     "execution_count": 48,
     "metadata": {},
     "output_type": "execute_result"
    }
   ],
   "source": [
    "trial = read_csv('data/trial_data.csv')\n",
    "trial.head()"
   ]
  },
  {
   "cell_type": "code",
   "execution_count": 49,
   "id": "31a2d6f9-8da2-423c-8d0b-b37cad61f458",
   "metadata": {},
   "outputs": [],
   "source": [
    "chart_trial = (\n",
    "    Chart(trial)\n",
    "    .mark_point(size=50)\n",
    "    .encode(\n",
    "        X(\"brightness\", title=\"Brightness\"),\n",
    "        Y(\"points\", title=\"Number of points\"),\n",
    "        Color(\"up_down:N\", title=\"\"),\n",
    "    )\n",
    "    .properties(title=\"Classifying a shape as Up (0) or Down (1)\")\n",
    "    .configure_title(anchor=\"start\")\n",
    ")"
   ]
  },
  {
   "cell_type": "code",
   "execution_count": 50,
   "id": "2d20af59-23f6-406c-867e-2bedb2f8ce70",
   "metadata": {},
   "outputs": [
    {
     "data": {
      "text/html": [
       "\n",
       "<div id=\"altair-viz-72e49f1fd8414037a157fe67815dc961\"></div>\n",
       "<script type=\"text/javascript\">\n",
       "  var VEGA_DEBUG = (typeof VEGA_DEBUG == \"undefined\") ? {} : VEGA_DEBUG;\n",
       "  (function(spec, embedOpt){\n",
       "    let outputDiv = document.currentScript.previousElementSibling;\n",
       "    if (outputDiv.id !== \"altair-viz-72e49f1fd8414037a157fe67815dc961\") {\n",
       "      outputDiv = document.getElementById(\"altair-viz-72e49f1fd8414037a157fe67815dc961\");\n",
       "    }\n",
       "    const paths = {\n",
       "      \"vega\": \"https://cdn.jsdelivr.net/npm//vega@5?noext\",\n",
       "      \"vega-lib\": \"https://cdn.jsdelivr.net/npm//vega-lib?noext\",\n",
       "      \"vega-lite\": \"https://cdn.jsdelivr.net/npm//vega-lite@4.17.0?noext\",\n",
       "      \"vega-embed\": \"https://cdn.jsdelivr.net/npm//vega-embed@6?noext\",\n",
       "    };\n",
       "\n",
       "    function maybeLoadScript(lib, version) {\n",
       "      var key = `${lib.replace(\"-\", \"\")}_version`;\n",
       "      return (VEGA_DEBUG[key] == version) ?\n",
       "        Promise.resolve(paths[lib]) :\n",
       "        new Promise(function(resolve, reject) {\n",
       "          var s = document.createElement('script');\n",
       "          document.getElementsByTagName(\"head\")[0].appendChild(s);\n",
       "          s.async = true;\n",
       "          s.onload = () => {\n",
       "            VEGA_DEBUG[key] = version;\n",
       "            return resolve(paths[lib]);\n",
       "          };\n",
       "          s.onerror = () => reject(`Error loading script: ${paths[lib]}`);\n",
       "          s.src = paths[lib];\n",
       "        });\n",
       "    }\n",
       "\n",
       "    function showError(err) {\n",
       "      outputDiv.innerHTML = `<div class=\"error\" style=\"color:red;\">${err}</div>`;\n",
       "      throw err;\n",
       "    }\n",
       "\n",
       "    function displayChart(vegaEmbed) {\n",
       "      vegaEmbed(outputDiv, spec, embedOpt)\n",
       "        .catch(err => showError(`Javascript Error: ${err.message}<br>This usually means there's a typo in your chart specification. See the javascript console for the full traceback.`));\n",
       "    }\n",
       "\n",
       "    if(typeof define === \"function\" && define.amd) {\n",
       "      requirejs.config({paths});\n",
       "      require([\"vega-embed\"], displayChart, err => showError(`Error loading script: ${err.message}`));\n",
       "    } else {\n",
       "      maybeLoadScript(\"vega\", \"5\")\n",
       "        .then(() => maybeLoadScript(\"vega-lite\", \"4.17.0\"))\n",
       "        .then(() => maybeLoadScript(\"vega-embed\", \"6\"))\n",
       "        .catch(showError)\n",
       "        .then(() => displayChart(vegaEmbed));\n",
       "    }\n",
       "  })({\"config\": {\"view\": {\"continuousWidth\": 400, \"continuousHeight\": 300}, \"title\": {\"anchor\": \"start\"}}, \"data\": {\"name\": \"data-6178a1bb67ad3b410e7b960d8294f685\"}, \"mark\": {\"type\": \"point\", \"size\": 50}, \"encoding\": {\"color\": {\"field\": \"up_down\", \"title\": \"\", \"type\": \"nominal\"}, \"x\": {\"field\": \"brightness\", \"title\": \"Brightness\", \"type\": \"quantitative\"}, \"y\": {\"field\": \"points\", \"title\": \"Number of points\", \"type\": \"quantitative\"}}, \"title\": \"Classifying a shape as Up (0) or Down (1)\", \"$schema\": \"https://vega.github.io/schema/vega-lite/v4.17.0.json\", \"datasets\": {\"data-6178a1bb67ad3b410e7b960d8294f685\": [{\"brightness\": 19, \"points\": 0, \"curve\": 0, \"up_down\": 1}, {\"brightness\": 20, \"points\": 0, \"curve\": 0, \"up_down\": 1}, {\"brightness\": 21, \"points\": 0, \"curve\": 0, \"up_down\": 1}, {\"brightness\": 22, \"points\": 0, \"curve\": 0, \"up_down\": 1}, {\"brightness\": 22, \"points\": 3, \"curve\": 0, \"up_down\": 1}, {\"brightness\": 18, \"points\": 3, \"curve\": 0, \"up_down\": 1}, {\"brightness\": 18, \"points\": 1, \"curve\": 1, \"up_down\": 1}, {\"brightness\": 19, \"points\": 0, \"curve\": 0, \"up_down\": 1}, {\"brightness\": 20, \"points\": 1, \"curve\": 0, \"up_down\": 1}, {\"brightness\": 20, \"points\": 4, \"curve\": 0, \"up_down\": 1}, {\"brightness\": 20, \"points\": 2, \"curve\": 0, \"up_down\": 1}, {\"brightness\": 22, \"points\": 2, \"curve\": 0, \"up_down\": 1}, {\"brightness\": 25, \"points\": 1, \"curve\": 0, \"up_down\": 1}, {\"brightness\": 22, \"points\": 1, \"curve\": 0, \"up_down\": 1}, {\"brightness\": 18, \"points\": 5, \"curve\": 0, \"up_down\": 1}, {\"brightness\": 19, \"points\": 8, \"curve\": 0, \"up_down\": 1}, {\"brightness\": 21, \"points\": 9, \"curve\": 0, \"up_down\": 1}, {\"brightness\": 23, \"points\": 7, \"curve\": 0, \"up_down\": 1}, {\"brightness\": 22, \"points\": 10, \"curve\": 0, \"up_down\": 1}, {\"brightness\": 26, \"points\": 4, \"curve\": 0, \"up_down\": 1}, {\"brightness\": 30, \"points\": 3, \"curve\": 0, \"up_down\": 0}, {\"brightness\": 30, \"points\": 2, \"curve\": 0, \"up_down\": 0}, {\"brightness\": 45, \"points\": 1, \"curve\": 1, \"up_down\": 0}, {\"brightness\": 45, \"points\": 3, \"curve\": 1, \"up_down\": 0}, {\"brightness\": 40, \"points\": 1, \"curve\": 1, \"up_down\": 0}, {\"brightness\": 40, \"points\": 2, \"curve\": 1, \"up_down\": 0}, {\"brightness\": 36, \"points\": 0, \"curve\": 0, \"up_down\": 0}, {\"brightness\": 32, \"points\": 1, \"curve\": 0, \"up_down\": 0}, {\"brightness\": 40, \"points\": 0, \"curve\": 0, \"up_down\": 0}, {\"brightness\": 31, \"points\": 1, \"curve\": 0, \"up_down\": 0}, {\"brightness\": 35, \"points\": 3, \"curve\": 0, \"up_down\": 0}, {\"brightness\": 31, \"points\": 0, \"curve\": 0, \"up_down\": 0}, {\"brightness\": 32, \"points\": 0, \"curve\": 0, \"up_down\": 0}, {\"brightness\": 33, \"points\": 0, \"curve\": 0, \"up_down\": 0}, {\"brightness\": 40, \"points\": 7, \"curve\": 0, \"up_down\": 0}, {\"brightness\": 42, \"points\": 6, \"curve\": 0, \"up_down\": 0}, {\"brightness\": 35, \"points\": 4, \"curve\": 0, \"up_down\": 0}]}}, {\"mode\": \"vega-lite\"});\n",
       "</script>"
      ],
      "text/plain": [
       "alt.Chart(...)"
      ]
     },
     "execution_count": 50,
     "metadata": {},
     "output_type": "execute_result"
    }
   ],
   "source": [
    "chart_trial"
   ]
  },
  {
   "cell_type": "markdown",
   "id": "034c12d3-8e1d-449f-8c67-7f6b65ef9a23",
   "metadata": {},
   "source": [
    "## Building some intuition II (5 mins)"
   ]
  },
  {
   "cell_type": "markdown",
   "id": "e6a792e7-7c6f-42c9-83e0-8a1b6a13e8eb",
   "metadata": {},
   "source": [
    "- Pick a random point on the plot, ask students if it's \"up\" or \"down\"\n",
    "- Do this several times, start with easy ones, and then gradually get closer and closer to the middle"
   ]
  },
  {
   "cell_type": "code",
   "execution_count": 51,
   "id": "85d92b62-5760-48ad-9327-0dad6656359e",
   "metadata": {},
   "outputs": [
    {
     "data": {
      "text/html": [
       "\n",
       "<div id=\"altair-viz-6bb734ee86854c66af8fd292dea65390\"></div>\n",
       "<script type=\"text/javascript\">\n",
       "  var VEGA_DEBUG = (typeof VEGA_DEBUG == \"undefined\") ? {} : VEGA_DEBUG;\n",
       "  (function(spec, embedOpt){\n",
       "    let outputDiv = document.currentScript.previousElementSibling;\n",
       "    if (outputDiv.id !== \"altair-viz-6bb734ee86854c66af8fd292dea65390\") {\n",
       "      outputDiv = document.getElementById(\"altair-viz-6bb734ee86854c66af8fd292dea65390\");\n",
       "    }\n",
       "    const paths = {\n",
       "      \"vega\": \"https://cdn.jsdelivr.net/npm//vega@5?noext\",\n",
       "      \"vega-lib\": \"https://cdn.jsdelivr.net/npm//vega-lib?noext\",\n",
       "      \"vega-lite\": \"https://cdn.jsdelivr.net/npm//vega-lite@4.17.0?noext\",\n",
       "      \"vega-embed\": \"https://cdn.jsdelivr.net/npm//vega-embed@6?noext\",\n",
       "    };\n",
       "\n",
       "    function maybeLoadScript(lib, version) {\n",
       "      var key = `${lib.replace(\"-\", \"\")}_version`;\n",
       "      return (VEGA_DEBUG[key] == version) ?\n",
       "        Promise.resolve(paths[lib]) :\n",
       "        new Promise(function(resolve, reject) {\n",
       "          var s = document.createElement('script');\n",
       "          document.getElementsByTagName(\"head\")[0].appendChild(s);\n",
       "          s.async = true;\n",
       "          s.onload = () => {\n",
       "            VEGA_DEBUG[key] = version;\n",
       "            return resolve(paths[lib]);\n",
       "          };\n",
       "          s.onerror = () => reject(`Error loading script: ${paths[lib]}`);\n",
       "          s.src = paths[lib];\n",
       "        });\n",
       "    }\n",
       "\n",
       "    function showError(err) {\n",
       "      outputDiv.innerHTML = `<div class=\"error\" style=\"color:red;\">${err}</div>`;\n",
       "      throw err;\n",
       "    }\n",
       "\n",
       "    function displayChart(vegaEmbed) {\n",
       "      vegaEmbed(outputDiv, spec, embedOpt)\n",
       "        .catch(err => showError(`Javascript Error: ${err.message}<br>This usually means there's a typo in your chart specification. See the javascript console for the full traceback.`));\n",
       "    }\n",
       "\n",
       "    if(typeof define === \"function\" && define.amd) {\n",
       "      requirejs.config({paths});\n",
       "      require([\"vega-embed\"], displayChart, err => showError(`Error loading script: ${err.message}`));\n",
       "    } else {\n",
       "      maybeLoadScript(\"vega\", \"5\")\n",
       "        .then(() => maybeLoadScript(\"vega-lite\", \"4.17.0\"))\n",
       "        .then(() => maybeLoadScript(\"vega-embed\", \"6\"))\n",
       "        .catch(showError)\n",
       "        .then(() => displayChart(vegaEmbed));\n",
       "    }\n",
       "  })({\"config\": {\"view\": {\"continuousWidth\": 400, \"continuousHeight\": 300}, \"title\": {\"anchor\": \"start\"}}, \"data\": {\"name\": \"data-6178a1bb67ad3b410e7b960d8294f685\"}, \"mark\": {\"type\": \"point\", \"size\": 50}, \"encoding\": {\"color\": {\"field\": \"up_down\", \"title\": \"\", \"type\": \"nominal\"}, \"x\": {\"field\": \"brightness\", \"title\": \"Brightness\", \"type\": \"quantitative\"}, \"y\": {\"field\": \"points\", \"title\": \"Number of points\", \"type\": \"quantitative\"}}, \"title\": \"Classifying a shape as Up (0) or Down (1)\", \"$schema\": \"https://vega.github.io/schema/vega-lite/v4.17.0.json\", \"datasets\": {\"data-6178a1bb67ad3b410e7b960d8294f685\": [{\"brightness\": 19, \"points\": 0, \"curve\": 0, \"up_down\": 1}, {\"brightness\": 20, \"points\": 0, \"curve\": 0, \"up_down\": 1}, {\"brightness\": 21, \"points\": 0, \"curve\": 0, \"up_down\": 1}, {\"brightness\": 22, \"points\": 0, \"curve\": 0, \"up_down\": 1}, {\"brightness\": 22, \"points\": 3, \"curve\": 0, \"up_down\": 1}, {\"brightness\": 18, \"points\": 3, \"curve\": 0, \"up_down\": 1}, {\"brightness\": 18, \"points\": 1, \"curve\": 1, \"up_down\": 1}, {\"brightness\": 19, \"points\": 0, \"curve\": 0, \"up_down\": 1}, {\"brightness\": 20, \"points\": 1, \"curve\": 0, \"up_down\": 1}, {\"brightness\": 20, \"points\": 4, \"curve\": 0, \"up_down\": 1}, {\"brightness\": 20, \"points\": 2, \"curve\": 0, \"up_down\": 1}, {\"brightness\": 22, \"points\": 2, \"curve\": 0, \"up_down\": 1}, {\"brightness\": 25, \"points\": 1, \"curve\": 0, \"up_down\": 1}, {\"brightness\": 22, \"points\": 1, \"curve\": 0, \"up_down\": 1}, {\"brightness\": 18, \"points\": 5, \"curve\": 0, \"up_down\": 1}, {\"brightness\": 19, \"points\": 8, \"curve\": 0, \"up_down\": 1}, {\"brightness\": 21, \"points\": 9, \"curve\": 0, \"up_down\": 1}, {\"brightness\": 23, \"points\": 7, \"curve\": 0, \"up_down\": 1}, {\"brightness\": 22, \"points\": 10, \"curve\": 0, \"up_down\": 1}, {\"brightness\": 26, \"points\": 4, \"curve\": 0, \"up_down\": 1}, {\"brightness\": 30, \"points\": 3, \"curve\": 0, \"up_down\": 0}, {\"brightness\": 30, \"points\": 2, \"curve\": 0, \"up_down\": 0}, {\"brightness\": 45, \"points\": 1, \"curve\": 1, \"up_down\": 0}, {\"brightness\": 45, \"points\": 3, \"curve\": 1, \"up_down\": 0}, {\"brightness\": 40, \"points\": 1, \"curve\": 1, \"up_down\": 0}, {\"brightness\": 40, \"points\": 2, \"curve\": 1, \"up_down\": 0}, {\"brightness\": 36, \"points\": 0, \"curve\": 0, \"up_down\": 0}, {\"brightness\": 32, \"points\": 1, \"curve\": 0, \"up_down\": 0}, {\"brightness\": 40, \"points\": 0, \"curve\": 0, \"up_down\": 0}, {\"brightness\": 31, \"points\": 1, \"curve\": 0, \"up_down\": 0}, {\"brightness\": 35, \"points\": 3, \"curve\": 0, \"up_down\": 0}, {\"brightness\": 31, \"points\": 0, \"curve\": 0, \"up_down\": 0}, {\"brightness\": 32, \"points\": 0, \"curve\": 0, \"up_down\": 0}, {\"brightness\": 33, \"points\": 0, \"curve\": 0, \"up_down\": 0}, {\"brightness\": 40, \"points\": 7, \"curve\": 0, \"up_down\": 0}, {\"brightness\": 42, \"points\": 6, \"curve\": 0, \"up_down\": 0}, {\"brightness\": 35, \"points\": 4, \"curve\": 0, \"up_down\": 0}]}}, {\"mode\": \"vega-lite\"});\n",
       "</script>"
      ],
      "text/plain": [
       "alt.Chart(...)"
      ]
     },
     "execution_count": 51,
     "metadata": {},
     "output_type": "execute_result"
    }
   ],
   "source": [
    "chart_trial"
   ]
  },
  {
   "cell_type": "markdown",
   "id": "e3362c17-851e-4393-9676-1791a9d3ac80",
   "metadata": {},
   "source": [
    "- We clearly have some intuition about which point belongs to which group. \n",
    "- But let's try to quantify this (again, so it's easier to understand what Machine Learning is)"
   ]
  },
  {
   "cell_type": "code",
   "execution_count": 52,
   "id": "95b7f6aa-d446-4efb-b06a-979a6a8590c0",
   "metadata": {},
   "outputs": [
    {
     "data": {
      "text/html": [
       "\n",
       "<div id=\"altair-viz-dbaf5ede920b41d79942f9504846a550\"></div>\n",
       "<script type=\"text/javascript\">\n",
       "  var VEGA_DEBUG = (typeof VEGA_DEBUG == \"undefined\") ? {} : VEGA_DEBUG;\n",
       "  (function(spec, embedOpt){\n",
       "    let outputDiv = document.currentScript.previousElementSibling;\n",
       "    if (outputDiv.id !== \"altair-viz-dbaf5ede920b41d79942f9504846a550\") {\n",
       "      outputDiv = document.getElementById(\"altair-viz-dbaf5ede920b41d79942f9504846a550\");\n",
       "    }\n",
       "    const paths = {\n",
       "      \"vega\": \"https://cdn.jsdelivr.net/npm//vega@5?noext\",\n",
       "      \"vega-lib\": \"https://cdn.jsdelivr.net/npm//vega-lib?noext\",\n",
       "      \"vega-lite\": \"https://cdn.jsdelivr.net/npm//vega-lite@4.17.0?noext\",\n",
       "      \"vega-embed\": \"https://cdn.jsdelivr.net/npm//vega-embed@6?noext\",\n",
       "    };\n",
       "\n",
       "    function maybeLoadScript(lib, version) {\n",
       "      var key = `${lib.replace(\"-\", \"\")}_version`;\n",
       "      return (VEGA_DEBUG[key] == version) ?\n",
       "        Promise.resolve(paths[lib]) :\n",
       "        new Promise(function(resolve, reject) {\n",
       "          var s = document.createElement('script');\n",
       "          document.getElementsByTagName(\"head\")[0].appendChild(s);\n",
       "          s.async = true;\n",
       "          s.onload = () => {\n",
       "            VEGA_DEBUG[key] = version;\n",
       "            return resolve(paths[lib]);\n",
       "          };\n",
       "          s.onerror = () => reject(`Error loading script: ${paths[lib]}`);\n",
       "          s.src = paths[lib];\n",
       "        });\n",
       "    }\n",
       "\n",
       "    function showError(err) {\n",
       "      outputDiv.innerHTML = `<div class=\"error\" style=\"color:red;\">${err}</div>`;\n",
       "      throw err;\n",
       "    }\n",
       "\n",
       "    function displayChart(vegaEmbed) {\n",
       "      vegaEmbed(outputDiv, spec, embedOpt)\n",
       "        .catch(err => showError(`Javascript Error: ${err.message}<br>This usually means there's a typo in your chart specification. See the javascript console for the full traceback.`));\n",
       "    }\n",
       "\n",
       "    if(typeof define === \"function\" && define.amd) {\n",
       "      requirejs.config({paths});\n",
       "      require([\"vega-embed\"], displayChart, err => showError(`Error loading script: ${err.message}`));\n",
       "    } else {\n",
       "      maybeLoadScript(\"vega\", \"5\")\n",
       "        .then(() => maybeLoadScript(\"vega-lite\", \"4.17.0\"))\n",
       "        .then(() => maybeLoadScript(\"vega-embed\", \"6\"))\n",
       "        .catch(showError)\n",
       "        .then(() => displayChart(vegaEmbed));\n",
       "    }\n",
       "  })({\"config\": {\"view\": {\"continuousWidth\": 400, \"continuousHeight\": 300}, \"title\": {\"anchor\": \"start\"}}, \"data\": {\"name\": \"data-6178a1bb67ad3b410e7b960d8294f685\"}, \"mark\": {\"type\": \"point\", \"size\": 50}, \"encoding\": {\"color\": {\"field\": \"up_down\", \"title\": \"\", \"type\": \"nominal\"}, \"x\": {\"field\": \"brightness\", \"title\": \"Brightness\", \"type\": \"quantitative\"}, \"y\": {\"field\": \"points\", \"title\": \"Number of points\", \"type\": \"quantitative\"}}, \"title\": \"Classifying a shape as Up (0) or Down (1)\", \"$schema\": \"https://vega.github.io/schema/vega-lite/v4.17.0.json\", \"datasets\": {\"data-6178a1bb67ad3b410e7b960d8294f685\": [{\"brightness\": 19, \"points\": 0, \"curve\": 0, \"up_down\": 1}, {\"brightness\": 20, \"points\": 0, \"curve\": 0, \"up_down\": 1}, {\"brightness\": 21, \"points\": 0, \"curve\": 0, \"up_down\": 1}, {\"brightness\": 22, \"points\": 0, \"curve\": 0, \"up_down\": 1}, {\"brightness\": 22, \"points\": 3, \"curve\": 0, \"up_down\": 1}, {\"brightness\": 18, \"points\": 3, \"curve\": 0, \"up_down\": 1}, {\"brightness\": 18, \"points\": 1, \"curve\": 1, \"up_down\": 1}, {\"brightness\": 19, \"points\": 0, \"curve\": 0, \"up_down\": 1}, {\"brightness\": 20, \"points\": 1, \"curve\": 0, \"up_down\": 1}, {\"brightness\": 20, \"points\": 4, \"curve\": 0, \"up_down\": 1}, {\"brightness\": 20, \"points\": 2, \"curve\": 0, \"up_down\": 1}, {\"brightness\": 22, \"points\": 2, \"curve\": 0, \"up_down\": 1}, {\"brightness\": 25, \"points\": 1, \"curve\": 0, \"up_down\": 1}, {\"brightness\": 22, \"points\": 1, \"curve\": 0, \"up_down\": 1}, {\"brightness\": 18, \"points\": 5, \"curve\": 0, \"up_down\": 1}, {\"brightness\": 19, \"points\": 8, \"curve\": 0, \"up_down\": 1}, {\"brightness\": 21, \"points\": 9, \"curve\": 0, \"up_down\": 1}, {\"brightness\": 23, \"points\": 7, \"curve\": 0, \"up_down\": 1}, {\"brightness\": 22, \"points\": 10, \"curve\": 0, \"up_down\": 1}, {\"brightness\": 26, \"points\": 4, \"curve\": 0, \"up_down\": 1}, {\"brightness\": 30, \"points\": 3, \"curve\": 0, \"up_down\": 0}, {\"brightness\": 30, \"points\": 2, \"curve\": 0, \"up_down\": 0}, {\"brightness\": 45, \"points\": 1, \"curve\": 1, \"up_down\": 0}, {\"brightness\": 45, \"points\": 3, \"curve\": 1, \"up_down\": 0}, {\"brightness\": 40, \"points\": 1, \"curve\": 1, \"up_down\": 0}, {\"brightness\": 40, \"points\": 2, \"curve\": 1, \"up_down\": 0}, {\"brightness\": 36, \"points\": 0, \"curve\": 0, \"up_down\": 0}, {\"brightness\": 32, \"points\": 1, \"curve\": 0, \"up_down\": 0}, {\"brightness\": 40, \"points\": 0, \"curve\": 0, \"up_down\": 0}, {\"brightness\": 31, \"points\": 1, \"curve\": 0, \"up_down\": 0}, {\"brightness\": 35, \"points\": 3, \"curve\": 0, \"up_down\": 0}, {\"brightness\": 31, \"points\": 0, \"curve\": 0, \"up_down\": 0}, {\"brightness\": 32, \"points\": 0, \"curve\": 0, \"up_down\": 0}, {\"brightness\": 33, \"points\": 0, \"curve\": 0, \"up_down\": 0}, {\"brightness\": 40, \"points\": 7, \"curve\": 0, \"up_down\": 0}, {\"brightness\": 42, \"points\": 6, \"curve\": 0, \"up_down\": 0}, {\"brightness\": 35, \"points\": 4, \"curve\": 0, \"up_down\": 0}]}}, {\"mode\": \"vega-lite\"});\n",
       "</script>"
      ],
      "text/plain": [
       "alt.Chart(...)"
      ]
     },
     "execution_count": 52,
     "metadata": {},
     "output_type": "execute_result"
    }
   ],
   "source": [
    "chart_trial"
   ]
  },
  {
   "cell_type": "markdown",
   "id": "e33b1643-f545-4e8d-9976-4fdfea027dea",
   "metadata": {},
   "source": [
    "- What if we looked at the closest \"neighbour\" of the test point, and just classify based on the neighbouring point?"
   ]
  },
  {
   "cell_type": "markdown",
   "id": "229c63c7-f661-4533-bb99-12e48feb9035",
   "metadata": {},
   "source": [
    "- How would we quantify this?\n",
    "    - Euclidean Distance between point A, $P_A$($x_1$,$y_1$) and point B, $P_B$($x_2$,$y_2$) is:\n",
    "       - $d = \\sqrt{ (x_2 - x_1)^2 + (y_2 - y_1)^2) }$"
   ]
  },
  {
   "cell_type": "markdown",
   "id": "41c3743f-5304-431a-9853-b8eed364422a",
   "metadata": {
    "tags": []
   },
   "source": [
    "## $k$ Nearest Neighbours, kNN method (5 mins)\n",
    "\n",
    "<img src =\"imgs/knn.png\" width=60%>\n",
    "\n",
    "**Caption**: Pictoral description of the kNN algorithm, with three different classes (A, B, C) and a test point ($P_t$). The $k$ nearest neighbours of $P_t$ dictates which class the point belongs to. Source: {cite}`Atallah:2019`"
   ]
  },
  {
   "cell_type": "markdown",
   "id": "f81ec52b-218d-4100-9fd1-99aa75e5a53d",
   "metadata": {},
   "source": [
    "- What is one problem with this method?\n",
    "    - Problem: Points that look equidistant will not have the same distances unless the data are re-scaled\n",
    "    - Solution: Let's center the data by subtracting the mean, and then divide by the standard deviation"
   ]
  },
  {
   "cell_type": "markdown",
   "id": "1a76dfbe-41cf-4a78-8b07-4be18bb4dcdc",
   "metadata": {},
   "source": [
    "- What is a second problem with this method?\n",
    "    - Problem: Prone to errors due to outliers and random \"chance\"\n",
    "    - Solution: Consider more than one neighbour.\n",
    "        - How many neighbours?\n",
    "            - Choose an odd number so there are no ties!\n",
    "            - Start with a low-number ($k_1 = 1$), run your classification on the training dataset, record accuracy; repeat for the next $k$, $k_2 = k_1+2$, etc...\n",
    "            - Plot the accuracy vs. $k$, and pick the lowest one! (Yes, really!)\n",
    "            - Rough guideline: optimal $k \\approx \\sqrt{N}$, where $N$ is the number of data points"
   ]
  },
  {
   "cell_type": "markdown",
   "id": "559100a4-92e5-41be-ab3d-5ce56a45dde0",
   "metadata": {},
   "source": [
    "### Extending kNN\n",
    "\n",
    "- So far we've only talked about two different classes (up or down) with just two input variables (Number of points and Brightness).\n",
    "\n",
    "- It's a bit harder to imagine in multiple dimensions, but here is what the picture looks like in 3 dimensions:\n",
    "\n",
    "<img src=\"https://inferentialthinking.com/_images/Implementing_the_Classifier_12_0.png\" width=60%>\n",
    "\n",
    "**Caption**: Visualization of points in 3-dimensional space with three input variables and two classes. Source: [Computational and Inferential Thinking: The Foundations of Data Science](https://inferentialthinking.com/chapters/intro.html) by Ani Adhikari, John DeNero, David Wagner distributed under a CC BY-NC-ND 4.0 license."
   ]
  },
  {
   "cell_type": "markdown",
   "id": "e5127d20-9ef2-47b1-ac57-982a9f8d5b56",
   "metadata": {},
   "source": [
    "- To calculate the Euclidean distance between two points in three dimensions with points , we just extend the 2D formula.\n",
    "\n",
    "- For two points in 3D space, $P_C$($x_1$,$y_1$,$z_1$) and $P_D$($x_2$,$y_2$,$z_2$):\n",
    "\n",
    "    - $d = \\sqrt{ (x_2 - x_1)^2 + (y_2 - y_1)^2 + (z_2 - z_1)^2}$\n",
    "\n",
    "\n",
    "- And so on... for points in N-dimensions"
   ]
  },
  {
   "cell_type": "markdown",
   "id": "1b0aeb86-1274-44c7-8409-d03d9cdab0a0",
   "metadata": {
    "tags": []
   },
   "source": [
    "### Demo of kNN (2 mins)"
   ]
  },
  {
   "cell_type": "markdown",
   "id": "908793f7-cb43-4388-8438-64fa2a783e57",
   "metadata": {},
   "source": [
    "Steps of kNN:\n",
    "\n",
    "- Load Training Data\n",
    "- Visualize Data\n",
    "- Create classifier\n",
    "- Train Algorithm\n",
    "- Check accuracy of classifier"
   ]
  },
  {
   "cell_type": "code",
   "execution_count": 53,
   "id": "49383d05-8959-4ca3-86af-4e688ca7f9b5",
   "metadata": {},
   "outputs": [],
   "source": [
    "# code to do all the above"
   ]
  },
  {
   "cell_type": "markdown",
   "id": "c8a156b2-b45c-45f0-a88c-43126d5a202a",
   "metadata": {},
   "source": [
    "## Checking the accuracy of the predictions (5 mins)\n",
    "\n",
    "- How do we check how well we did?\n",
    "- Let's apply the classifier to our training data and see how accurate the predictions are"
   ]
  },
  {
   "cell_type": "code",
   "execution_count": 54,
   "id": "00a01c7a-e4ec-472a-9d1d-896e7c00ac1f",
   "metadata": {},
   "outputs": [],
   "source": [
    "# code to apply classifier to training data"
   ]
  },
  {
   "cell_type": "markdown",
   "id": "a034da26-de95-40e3-a5bb-64e5c0ae13ec",
   "metadata": {},
   "source": [
    "### Separating the training and testing data (2 mins)"
   ]
  },
  {
   "cell_type": "code",
   "execution_count": null,
   "id": "4c7078d3-694d-4873-b972-c3c86e440227",
   "metadata": {},
   "outputs": [],
   "source": []
  },
  {
   "cell_type": "markdown",
   "id": "492d9899-e7c0-4e53-9d76-45c8a9a3d71e",
   "metadata": {},
   "source": [
    "## Context Matters (10 mins)\n",
    "\n",
    "- Let's start with the accuracy numbers:\n",
    "    - Our algorithm gets it right ~ 7 times out of 10.\n",
    "    - That's not bad - it's okay if we mis-classify 3 shapes out of every 10."
   ]
  },
  {
   "cell_type": "markdown",
   "id": "102bc22e-4c5e-4e95-9050-94c73a2d18a7",
   "metadata": {},
   "source": [
    "- What if I told you that the data you've been working with has nothing to do with shapes, but people?"
   ]
  },
  {
   "cell_type": "markdown",
   "id": "92d3eab5-18e4-4343-88b5-55b4015e6634",
   "metadata": {},
   "source": [
    "- Here's what the data actually means, all I did was change the names of the columns:\n",
    "\n",
    "| Current Column Name | Actual Column Name |\n",
    "| ------------------- | ------------------ |\n",
    "| Number of Points | |\n",
    "| Brightness | |\n",
    "| Curve | |\n",
    "| Up_Down | |"
   ]
  },
  {
   "cell_type": "markdown",
   "id": "6745a2f7-5144-42e4-b55b-6a22a9f6ed52",
   "metadata": {},
   "source": [
    "- Now re-evaluate the algorithm performance with this contextual information.\n",
    "\n",
    "    - When we changed the context, we started to look beyond numbers and started seeing human beings instead.\n",
    "    \n",
    "    - Consider your choices carefully - they may seem inoccuous initially, but hiding behind black box algorithms and deploying weapons of Math Destruction without appropriately scrutinizing the underlying data is DANGEROUS!\n",
    "    \n",
    "    - \"Data\" is not a panacea or a magical cure-all ; it's not biased in itself but it **does** reflect the biases of our society.\n",
    "    \n",
    "    - We will talk more about this as we go through the course.\n",
    "    \n",
    "- For now, let's dig into this example a bit more..."
   ]
  },
  {
   "cell_type": "markdown",
   "id": "6f7a4c6f-31fd-4a49-95ec-e11c26b7be72",
   "metadata": {},
   "source": [
    "## Beyond \"accuracy\" (10 mins)\n",
    "\n",
    "- Right and Wrong seem insufficient... it feels like we need more metrics right?"
   ]
  },
  {
   "cell_type": "markdown",
   "id": "94351160-a518-4a24-9bcf-15094dd95511",
   "metadata": {},
   "source": [
    "### Activity: Brainstorm (2 mins)\n",
    "\n",
    "- What are some analysis we can do to understand the *impact* of our classifier?\n",
    "    - Hint: keep it simple!"
   ]
  },
  {
   "cell_type": "code",
   "execution_count": null,
   "id": "fe1ab7b7-048f-463a-a634-b625235aaac0",
   "metadata": {},
   "outputs": [],
   "source": []
  },
  {
   "cell_type": "markdown",
   "id": "e8774664-4f95-4ac0-b570-c446d3dbacb1",
   "metadata": {},
   "source": [
    "### Common metrics (7 mins)\n",
    "\n",
    "- Accuracy\n",
    "- Sensitivity\n",
    "- Specificity \n",
    "- Precision\n",
    "- f-score"
   ]
  },
  {
   "cell_type": "markdown",
   "id": "c23f9c6b-7c57-4f2d-9861-212d6e1abedb",
   "metadata": {},
   "source": [
    "### Other Metrics (1 min)\n",
    "\n",
    "- We'll talk about other metrics as we go through the course and they become more relevant (warning: there are lots!!)"
   ]
  },
  {
   "cell_type": "markdown",
   "id": "0fe434af-50f9-4caf-b887-8800c09fbcfa",
   "metadata": {},
   "source": [
    "## Summary (5 mins)\n",
    "\n",
    "- Intuition on classification with Machine Learning\n",
    "- Summary of kNN method\n",
    "- Checking the accuracy of our classifier\n",
    "- Importance of Context\n",
    "- Other metrics beyond accuracy"
   ]
  },
  {
   "cell_type": "markdown",
   "id": "75f34394-7901-40db-9eea-77f7c00fadd3",
   "metadata": {
    "hideCode": false,
    "hidePrompt": false,
    "slideshow": {
     "slide_type": "slide"
    }
   },
   "source": [
    "## Summary of Learning Intentions"
   ]
  },
  {
   "cell_type": "markdown",
   "id": "c71e46bb-b8eb-4764-8505-232a37a55f78",
   "metadata": {
    "hideCode": false,
    "hidePrompt": false,
    "slideshow": {
     "slide_type": "fragment"
    }
   },
   "source": [
    "- Develop intuition about classification using machine learning."
   ]
  },
  {
   "cell_type": "markdown",
   "id": "7809b780-4c82-422f-ab2d-2769dbd44cff",
   "metadata": {
    "hideCode": false,
    "hidePrompt": false,
    "slideshow": {
     "slide_type": "fragment"
    }
   },
   "source": [
    "- Identify the general steps of classification using machine learning."
   ]
  },
  {
   "cell_type": "markdown",
   "id": "3c2ef808-93e1-44f2-807f-a68417d22be3",
   "metadata": {
    "hideCode": false,
    "hidePrompt": false,
    "slideshow": {
     "slide_type": "fragment"
    }
   },
   "source": [
    "- Summarize the kNN algorithm and examine its advantages and limitations."
   ]
  },
  {
   "cell_type": "markdown",
   "id": "bded670b-bbcf-40a7-a6fe-f9bdab452279",
   "metadata": {
    "hideCode": false,
    "hidePrompt": false,
    "slideshow": {
     "slide_type": "fragment"
    }
   },
   "source": [
    "- Critically evaluate the machine learning process and consider the importance of making human-centered choices."
   ]
  },
  {
   "cell_type": "markdown",
   "id": "b73f4ff6-3a28-480a-8b70-2671660d8750",
   "metadata": {
    "tags": []
   },
   "source": [
    "## Activity: You Try (homework)\n",
    "\n",
    "- Task 1: Use the same training data and increase the number of \"neighbours\", or the $k$ value.\n",
    "\n",
    "- Task 2: Compute performance metrics of the new prediction.\n",
    "\n",
    "- Task 3: Try adding the \"curve\" variable to the input data and re-train the model. Do you think it performs better?\n",
    "\n",
    "- Task 4: Write a loop to do this classification for all $k$ values from 1 to $N$ where $N$ is the total number of data points.\n",
    "    - Plot the accuracy vs. $N$; for which $k$ value is the accuracy highest?\n",
    "\n",
    "\n",
    "We will briefly review these tasks at the start of next class!"
   ]
  }
 ],
 "metadata": {
  "kernelspec": {
   "display_name": "Python 3 (ipykernel)",
   "language": "python",
   "name": "python3"
  },
  "language_info": {
   "codemirror_mode": {
    "name": "ipython",
    "version": 3
   },
   "file_extension": ".py",
   "mimetype": "text/x-python",
   "name": "python",
   "nbconvert_exporter": "python",
   "pygments_lexer": "ipython3",
   "version": "3.10.2"
  },
  "toc-showtags": false
 },
 "nbformat": 4,
 "nbformat_minor": 5
}

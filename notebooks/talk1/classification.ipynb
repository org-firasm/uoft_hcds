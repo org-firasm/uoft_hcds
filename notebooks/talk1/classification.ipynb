{
 "cells": [
  {
   "cell_type": "code",
   "execution_count": null,
   "id": "fb784e7c",
   "metadata": {
    "slideshow": {
     "slide_type": "skip"
    },
    "tags": [
     "remove-cell"
    ]
   },
   "outputs": [],
   "source": [
    "from pandas import *\n",
    "from altair import *\n",
    "from sklearn.neighbors import KNeighborsClassifier as KNN\n",
    "from sklearn.metrics import accuracy_score\n",
    "\n",
    "def check_accuracy(*kwargs):\n",
    "    \n",
    "    score = accuracy_score(*kwargs)\n",
    "    \n",
    "    print(f\"The model accuracy is {score:.1%}.\")\n",
    "    \n",
    "trial = read_csv('data/trial_data.csv')\n",
    "\n",
    "chart_trial = (\n",
    "    Chart(trial)\n",
    "    .mark_point(size=50)\n",
    "    .encode(\n",
    "        X(\"brightness\", title=\"Brightness\"),\n",
    "        Y(\"points\", title=\"Number of points\"),\n",
    "        Color(\"up_down:N\", title=\"\"),\n",
    "    )\n",
    "    .properties(title=\"Classifying a shape as Up (0) or Down (1)\",width=600,height=250)\n",
    "    .configure_title(anchor=\"start\",fontSize=24)\n",
    ").configure_axis(\n",
    "    labelFontSize=16,\n",
    "    titleFontSize=20\n",
    ")"
   ]
  },
  {
   "cell_type": "markdown",
   "id": "a03c270f-f62c-4e90-8f66-0a821216d9e3",
   "metadata": {
    "hideCode": false,
    "hidePrompt": false,
    "slideshow": {
     "slide_type": "slide"
    }
   },
   "source": [
    "# Introduction to Classification using Machine Learning\n",
    "\n",
    "<img src=\"imgs/brain_learning.jpg\">\n",
    "\n",
    "<p style=\"text-align:left;\">\n",
    "    <a href=\"https://pixabay.com/illustrations/brain-chip-neurons-machine-learning-6010961/\">Photo Credit: Pixabay</a>\n",
    "    <span style=\"float:right;\">\n",
    "        March 25, 2022 <br>\n",
    "        Firas Moosvi\n",
    "    </span>\n",
    "</p>"
   ]
  },
  {
   "cell_type": "markdown",
   "id": "8c114734-4b99-471f-9b3b-aede92edfcf0",
   "metadata": {
    "slideshow": {
     "slide_type": "slide"
    },
    "tags": []
   },
   "source": [
    "## Learning Context (5 mins)\n",
    "\n",
    "<img src=\"imgs/avatars.jpg\" width=50% align=\"center\">"
   ]
  },
  {
   "cell_type": "markdown",
   "id": "6dc58a61-6652-4abd-90c2-b32f9aeb8719",
   "metadata": {
    "cell_style": "center",
    "hideCode": false,
    "hidePrompt": false,
    "jp-MarkdownHeadingCollapsed": true,
    "slideshow": {
     "slide_type": "subslide"
    },
    "tags": []
   },
   "source": [
    "### Academic program:\n",
    "\n",
    "- Year 2 of the iSchool Master of Information program\n",
    "- Concentration: Primarily HCDS students, some UXD, and C&T"
   ]
  },
  {
   "cell_type": "markdown",
   "id": "4c998b79-847f-4a4d-b81d-ff4e30504a48",
   "metadata": {
    "slideshow": {
     "slide_type": "subslide"
    }
   },
   "source": [
    "### Course Details\n",
    "\n",
    "- INF 2179 - Machine Learning with Applications in Python\n",
    "- **Prerequisite**:\n",
    "    - INF 1340 - Programming for Data Science\n",
    "- Elective course\n",
    "- Almost everyone in here wants to be here and is excited to learn more!"
   ]
  },
  {
   "cell_type": "markdown",
   "id": "37a951c6-40a6-4fb7-8af8-d7df44dca771",
   "metadata": {
    "slideshow": {
     "slide_type": "subslide"
    }
   },
   "source": [
    "### Course Schedule\n",
    "\n",
    "- Week 1: Review of Python\n",
    "- Week 2: Loading and cleaning data\n",
    "- Week 3: Data wrangling\n",
    "- Week 4: This lesson (Introduction to Classification)"
   ]
  },
  {
   "cell_type": "markdown",
   "id": "8ad43002-98e6-4323-95d6-81932b98321d",
   "metadata": {
    "cell_style": "center",
    "hideCode": false,
    "hidePrompt": false,
    "slideshow": {
     "slide_type": "subslide"
    }
   },
   "source": [
    "### Programming Experience\n",
    "\n",
    "- Least experienced: Two terms of working in Python and R sporadically\n",
    "- Most experienced:  Worked in software industry for 2+ years\n",
    "- ~ 50 students in the class"
   ]
  },
  {
   "cell_type": "markdown",
   "id": "8dc46e6e-2f9d-4525-97c4-0f17e8064d78",
   "metadata": {
    "hideCode": false,
    "hidePrompt": false,
    "slideshow": {
     "slide_type": "subslide"
    }
   },
   "source": [
    "### Learning Intentions"
   ]
  },
  {
   "cell_type": "markdown",
   "id": "818ee1b2-c490-47b0-b753-3914ecf8bc72",
   "metadata": {
    "hideCode": false,
    "hidePrompt": false,
    "slideshow": {
     "slide_type": "fragment"
    }
   },
   "source": [
    "- Develop intuition about classification using machine learning."
   ]
  },
  {
   "cell_type": "markdown",
   "id": "818ab7e9-536a-44e3-8f1e-e2cf6d70c6a7",
   "metadata": {
    "hideCode": false,
    "hidePrompt": false,
    "slideshow": {
     "slide_type": "fragment"
    }
   },
   "source": [
    "- Identify the general steps of classification using machine learning."
   ]
  },
  {
   "cell_type": "markdown",
   "id": "be7e54d4-a3af-4be7-b0db-41a278d26351",
   "metadata": {
    "hideCode": false,
    "hidePrompt": false,
    "slideshow": {
     "slide_type": "fragment"
    }
   },
   "source": [
    "- Summarize the kNN algorithm and examine its advantages and limitations."
   ]
  },
  {
   "cell_type": "markdown",
   "id": "0e76fcba-1fc1-473c-96f9-2f0a5dcd72b1",
   "metadata": {
    "hideCode": false,
    "hidePrompt": false,
    "slideshow": {
     "slide_type": "fragment"
    }
   },
   "source": [
    "- Critically evaluate the machine learning process and consider the importance of making human-centered choices."
   ]
  },
  {
   "cell_type": "markdown",
   "id": "2289c326-6f5e-4008-b486-0bb563137ec7",
   "metadata": {
    "cell_style": "center",
    "hideCode": false,
    "hidePrompt": false,
    "slideshow": {
     "slide_type": "slide"
    }
   },
   "source": [
    "## Overview (1 min)\n",
    "\n",
    "In today's class we will discuss how to classify data using Machine Learning."
   ]
  },
  {
   "cell_type": "markdown",
   "id": "d569b198-fdc9-47e4-a10b-92d718045807",
   "metadata": {
    "slideshow": {
     "slide_type": "fragment"
    }
   },
   "source": [
    "Here is the general algorithm for a machine learning process, for which Classification is a subset:\n",
    "\n",
    "<img src=\"https://www.sap.com/dam/application/shared/graphics/what-is-machine-learning-process.svg\" width=100%>\n",
    "\n",
    "**Caption**: General workflow of the Machine Learning process. Image is copyright of [SAP Insights](https://www.sap.com/canada/insights/what-is-machine-learning.html), used under the education copyright exception."
   ]
  },
  {
   "cell_type": "markdown",
   "id": "deb8782f-6c2e-4424-879c-9a48d988d2d8",
   "metadata": {
    "slideshow": {
     "slide_type": "slide"
    }
   },
   "source": [
    "## Introduction to Classification (14 mins)"
   ]
  },
  {
   "cell_type": "markdown",
   "id": "452480f6-cfb5-4022-ae0e-f735cce3471b",
   "metadata": {
    "slideshow": {
     "slide_type": "subslide"
    }
   },
   "source": [
    "### Motivation"
   ]
  },
  {
   "cell_type": "markdown",
   "id": "f6405e44-2e35-44fc-b9db-4d8abb8c1141",
   "metadata": {
    "cell_style": "split",
    "slideshow": {
     "slide_type": "subslide"
    }
   },
   "source": [
    "### Activity\n",
    "\n",
    "\n",
    "- We are going to see a series of objects, and your task is just to say \"up\" or \"down\".\n",
    "\n",
    "- After each shape, I will tell you the correct answer.\n",
    "\n",
    "- As we see more, you should get more and more accurate."
   ]
  },
  {
   "cell_type": "markdown",
   "id": "66e858bd-fcbb-4f32-baf6-09acc3d25fa2",
   "metadata": {
    "cell_style": "split",
    "slideshow": {
     "slide_type": "fragment"
    }
   },
   "source": [
    "<img src=\"imgs/shape.png\" align=\"center\" width=100%>"
   ]
  },
  {
   "cell_type": "markdown",
   "id": "c857dc6d-f652-4c4a-bccf-e475c02c87cb",
   "metadata": {
    "cell_style": "split",
    "slideshow": {
     "slide_type": "subslide"
    }
   },
   "source": [
    "### Analysis\n",
    "\n",
    "- What made you decide \"up\" or \"down\"?\n",
    "\n",
    "- What \"attributes\" did you use to make a decision?\n",
    "\n",
    "- Which of them were quantitative, and which were qualitative?"
   ]
  },
  {
   "cell_type": "markdown",
   "id": "fa02347f",
   "metadata": {
    "cell_style": "split",
    "slideshow": {
     "slide_type": "fragment"
    }
   },
   "source": [
    "| Attribute    | Comment     |\n",
    "|------------- |------------ |\n",
    "| Points      |  Number of points           |\n",
    "| Blob or Pointy | Curved             |\n",
    "| Brightness             | Scale of 0-100            |\n",
    "| Color             | red herring, quantify             |"
   ]
  },
  {
   "cell_type": "markdown",
   "id": "87dc7849-402e-40a8-91f2-b0c8d0370bb3",
   "metadata": {
    "slideshow": {
     "slide_type": "subslide"
    }
   },
   "source": [
    "### Debrief\n",
    "\n",
    "- Can you imagine a computer doing the same task?\n",
    "- What changes would you make to adapt this task for a machine?\n",
    "    - Count number of points\n",
    "    - Quantify the shape\n",
    "    - Curved or not\n",
    "    - Colour or Transparency"
   ]
  },
  {
   "cell_type": "markdown",
   "id": "ee86e885-bf04-4137-8893-3c99dca4c8b6",
   "metadata": {
    "slideshow": {
     "slide_type": "subslide"
    }
   },
   "source": [
    "### Classification Process\n",
    "\n",
    "Let's revisit the Classification Process in light of the activity.\n",
    "\n",
    "<img src=\"https://www.sap.com/dam/application/shared/graphics/what-is-machine-learning-process.svg\" width=100%>\n",
    "\n",
    "**Caption**: General workflow of the Machine Learning process. Image is copyright of [SAP Insights](https://www.sap.com/canada/insights/what-is-machine-learning.html), used under the education copyright exception."
   ]
  },
  {
   "cell_type": "markdown",
   "id": "afdacaef-5cb5-47f2-9602-ea5e4d4a4d84",
   "metadata": {
    "slideshow": {
     "slide_type": "subslide"
    }
   },
   "source": [
    "### Load and Visualize Data"
   ]
  },
  {
   "cell_type": "code",
   "execution_count": 4,
   "id": "69e9df97-8dc6-4f3d-85e1-19a54d2c4329",
   "metadata": {
    "slideshow": {
     "slide_type": "fragment"
    }
   },
   "outputs": [
    {
     "data": {
      "text/html": [
       "<div>\n",
       "<style scoped>\n",
       "    .dataframe tbody tr th:only-of-type {\n",
       "        vertical-align: middle;\n",
       "    }\n",
       "\n",
       "    .dataframe tbody tr th {\n",
       "        vertical-align: top;\n",
       "    }\n",
       "\n",
       "    .dataframe thead th {\n",
       "        text-align: right;\n",
       "    }\n",
       "</style>\n",
       "<table border=\"1\" class=\"dataframe\">\n",
       "  <thead>\n",
       "    <tr style=\"text-align: right;\">\n",
       "      <th></th>\n",
       "      <th>brightness</th>\n",
       "      <th>points</th>\n",
       "      <th>curve</th>\n",
       "      <th>up_down</th>\n",
       "    </tr>\n",
       "  </thead>\n",
       "  <tbody>\n",
       "    <tr>\n",
       "      <th>0</th>\n",
       "      <td>19</td>\n",
       "      <td>0</td>\n",
       "      <td>0</td>\n",
       "      <td>1</td>\n",
       "    </tr>\n",
       "    <tr>\n",
       "      <th>1</th>\n",
       "      <td>20</td>\n",
       "      <td>0</td>\n",
       "      <td>0</td>\n",
       "      <td>1</td>\n",
       "    </tr>\n",
       "    <tr>\n",
       "      <th>2</th>\n",
       "      <td>21</td>\n",
       "      <td>0</td>\n",
       "      <td>0</td>\n",
       "      <td>1</td>\n",
       "    </tr>\n",
       "    <tr>\n",
       "      <th>3</th>\n",
       "      <td>22</td>\n",
       "      <td>0</td>\n",
       "      <td>0</td>\n",
       "      <td>1</td>\n",
       "    </tr>\n",
       "    <tr>\n",
       "      <th>4</th>\n",
       "      <td>22</td>\n",
       "      <td>3</td>\n",
       "      <td>0</td>\n",
       "      <td>1</td>\n",
       "    </tr>\n",
       "  </tbody>\n",
       "</table>\n",
       "</div>"
      ],
      "text/plain": [
       "   brightness  points  curve  up_down\n",
       "0          19       0      0        1\n",
       "1          20       0      0        1\n",
       "2          21       0      0        1\n",
       "3          22       0      0        1\n",
       "4          22       3      0        1"
      ]
     },
     "execution_count": 4,
     "metadata": {},
     "output_type": "execute_result"
    }
   ],
   "source": [
    "# Load data\n",
    "\n",
    "trial = read_csv('data/trial_data.csv')\n",
    "trial.head()"
   ]
  },
  {
   "cell_type": "code",
   "execution_count": 5,
   "id": "2d20af59-23f6-406c-867e-2bedb2f8ce70",
   "metadata": {
    "slideshow": {
     "slide_type": "fragment"
    }
   },
   "outputs": [
    {
     "data": {
      "text/html": [
       "\n",
       "<div id=\"altair-viz-e3d87230b5f44d0a833383a30e8e1bc2\"></div>\n",
       "<script type=\"text/javascript\">\n",
       "  var VEGA_DEBUG = (typeof VEGA_DEBUG == \"undefined\") ? {} : VEGA_DEBUG;\n",
       "  (function(spec, embedOpt){\n",
       "    let outputDiv = document.currentScript.previousElementSibling;\n",
       "    if (outputDiv.id !== \"altair-viz-e3d87230b5f44d0a833383a30e8e1bc2\") {\n",
       "      outputDiv = document.getElementById(\"altair-viz-e3d87230b5f44d0a833383a30e8e1bc2\");\n",
       "    }\n",
       "    const paths = {\n",
       "      \"vega\": \"https://cdn.jsdelivr.net/npm//vega@5?noext\",\n",
       "      \"vega-lib\": \"https://cdn.jsdelivr.net/npm//vega-lib?noext\",\n",
       "      \"vega-lite\": \"https://cdn.jsdelivr.net/npm//vega-lite@4.17.0?noext\",\n",
       "      \"vega-embed\": \"https://cdn.jsdelivr.net/npm//vega-embed@6?noext\",\n",
       "    };\n",
       "\n",
       "    function maybeLoadScript(lib, version) {\n",
       "      var key = `${lib.replace(\"-\", \"\")}_version`;\n",
       "      return (VEGA_DEBUG[key] == version) ?\n",
       "        Promise.resolve(paths[lib]) :\n",
       "        new Promise(function(resolve, reject) {\n",
       "          var s = document.createElement('script');\n",
       "          document.getElementsByTagName(\"head\")[0].appendChild(s);\n",
       "          s.async = true;\n",
       "          s.onload = () => {\n",
       "            VEGA_DEBUG[key] = version;\n",
       "            return resolve(paths[lib]);\n",
       "          };\n",
       "          s.onerror = () => reject(`Error loading script: ${paths[lib]}`);\n",
       "          s.src = paths[lib];\n",
       "        });\n",
       "    }\n",
       "\n",
       "    function showError(err) {\n",
       "      outputDiv.innerHTML = `<div class=\"error\" style=\"color:red;\">${err}</div>`;\n",
       "      throw err;\n",
       "    }\n",
       "\n",
       "    function displayChart(vegaEmbed) {\n",
       "      vegaEmbed(outputDiv, spec, embedOpt)\n",
       "        .catch(err => showError(`Javascript Error: ${err.message}<br>This usually means there's a typo in your chart specification. See the javascript console for the full traceback.`));\n",
       "    }\n",
       "\n",
       "    if(typeof define === \"function\" && define.amd) {\n",
       "      requirejs.config({paths});\n",
       "      require([\"vega-embed\"], displayChart, err => showError(`Error loading script: ${err.message}`));\n",
       "    } else {\n",
       "      maybeLoadScript(\"vega\", \"5\")\n",
       "        .then(() => maybeLoadScript(\"vega-lite\", \"4.17.0\"))\n",
       "        .then(() => maybeLoadScript(\"vega-embed\", \"6\"))\n",
       "        .catch(showError)\n",
       "        .then(() => displayChart(vegaEmbed));\n",
       "    }\n",
       "  })({\"config\": {\"view\": {\"continuousWidth\": 400, \"continuousHeight\": 300}, \"axis\": {\"labelFontSize\": 16, \"titleFontSize\": 20}, \"title\": {\"anchor\": \"start\", \"fontSize\": 24}}, \"data\": {\"name\": \"data-6178a1bb67ad3b410e7b960d8294f685\"}, \"mark\": {\"type\": \"point\", \"size\": 50}, \"encoding\": {\"color\": {\"field\": \"up_down\", \"title\": \"\", \"type\": \"nominal\"}, \"x\": {\"field\": \"brightness\", \"title\": \"Brightness\", \"type\": \"quantitative\"}, \"y\": {\"field\": \"points\", \"title\": \"Number of points\", \"type\": \"quantitative\"}}, \"height\": 250, \"title\": \"Classifying a shape as Up (0) or Down (1)\", \"width\": 600, \"$schema\": \"https://vega.github.io/schema/vega-lite/v4.17.0.json\", \"datasets\": {\"data-6178a1bb67ad3b410e7b960d8294f685\": [{\"brightness\": 19, \"points\": 0, \"curve\": 0, \"up_down\": 1}, {\"brightness\": 20, \"points\": 0, \"curve\": 0, \"up_down\": 1}, {\"brightness\": 21, \"points\": 0, \"curve\": 0, \"up_down\": 1}, {\"brightness\": 22, \"points\": 0, \"curve\": 0, \"up_down\": 1}, {\"brightness\": 22, \"points\": 3, \"curve\": 0, \"up_down\": 1}, {\"brightness\": 18, \"points\": 3, \"curve\": 0, \"up_down\": 1}, {\"brightness\": 18, \"points\": 1, \"curve\": 1, \"up_down\": 1}, {\"brightness\": 19, \"points\": 0, \"curve\": 0, \"up_down\": 1}, {\"brightness\": 20, \"points\": 1, \"curve\": 0, \"up_down\": 1}, {\"brightness\": 20, \"points\": 4, \"curve\": 0, \"up_down\": 1}, {\"brightness\": 20, \"points\": 2, \"curve\": 0, \"up_down\": 1}, {\"brightness\": 22, \"points\": 2, \"curve\": 0, \"up_down\": 1}, {\"brightness\": 25, \"points\": 1, \"curve\": 0, \"up_down\": 1}, {\"brightness\": 22, \"points\": 1, \"curve\": 0, \"up_down\": 1}, {\"brightness\": 18, \"points\": 5, \"curve\": 0, \"up_down\": 1}, {\"brightness\": 19, \"points\": 8, \"curve\": 0, \"up_down\": 1}, {\"brightness\": 21, \"points\": 9, \"curve\": 0, \"up_down\": 1}, {\"brightness\": 23, \"points\": 7, \"curve\": 0, \"up_down\": 1}, {\"brightness\": 22, \"points\": 10, \"curve\": 0, \"up_down\": 1}, {\"brightness\": 26, \"points\": 4, \"curve\": 0, \"up_down\": 1}, {\"brightness\": 30, \"points\": 3, \"curve\": 0, \"up_down\": 0}, {\"brightness\": 30, \"points\": 2, \"curve\": 0, \"up_down\": 0}, {\"brightness\": 45, \"points\": 1, \"curve\": 1, \"up_down\": 0}, {\"brightness\": 45, \"points\": 3, \"curve\": 1, \"up_down\": 0}, {\"brightness\": 40, \"points\": 1, \"curve\": 1, \"up_down\": 0}, {\"brightness\": 40, \"points\": 2, \"curve\": 1, \"up_down\": 0}, {\"brightness\": 36, \"points\": 0, \"curve\": 0, \"up_down\": 0}, {\"brightness\": 32, \"points\": 1, \"curve\": 0, \"up_down\": 0}, {\"brightness\": 40, \"points\": 0, \"curve\": 0, \"up_down\": 0}, {\"brightness\": 31, \"points\": 1, \"curve\": 0, \"up_down\": 0}, {\"brightness\": 35, \"points\": 3, \"curve\": 0, \"up_down\": 0}, {\"brightness\": 31, \"points\": 0, \"curve\": 0, \"up_down\": 0}, {\"brightness\": 32, \"points\": 0, \"curve\": 0, \"up_down\": 0}, {\"brightness\": 33, \"points\": 0, \"curve\": 0, \"up_down\": 0}, {\"brightness\": 40, \"points\": 7, \"curve\": 0, \"up_down\": 0}, {\"brightness\": 42, \"points\": 6, \"curve\": 0, \"up_down\": 0}, {\"brightness\": 35, \"points\": 4, \"curve\": 0, \"up_down\": 0}]}}, {\"mode\": \"vega-lite\"});\n",
       "</script>"
      ],
      "text/plain": [
       "alt.Chart(...)"
      ]
     },
     "execution_count": 5,
     "metadata": {},
     "output_type": "execute_result"
    }
   ],
   "source": [
    "# Visualize Data\n",
    "\n",
    "chart_trial"
   ]
  },
  {
   "cell_type": "markdown",
   "id": "034c12d3-8e1d-449f-8c67-7f6b65ef9a23",
   "metadata": {
    "slideshow": {
     "slide_type": "subslide"
    }
   },
   "source": [
    "### Classification by Intuition\n",
    "\n",
    "- We clearly have some intuition about which point belongs to which group. \n",
    "- But let's try to formalize this and turn it into an \"algorithm\""
   ]
  },
  {
   "cell_type": "code",
   "execution_count": 6,
   "id": "85d92b62-5760-48ad-9327-0dad6656359e",
   "metadata": {
    "cell_style": "center",
    "slideshow": {
     "slide_type": "fragment"
    }
   },
   "outputs": [
    {
     "data": {
      "text/html": [
       "\n",
       "<div id=\"altair-viz-ab2e7f8aef204e19bfe84fbc1e5a2549\"></div>\n",
       "<script type=\"text/javascript\">\n",
       "  var VEGA_DEBUG = (typeof VEGA_DEBUG == \"undefined\") ? {} : VEGA_DEBUG;\n",
       "  (function(spec, embedOpt){\n",
       "    let outputDiv = document.currentScript.previousElementSibling;\n",
       "    if (outputDiv.id !== \"altair-viz-ab2e7f8aef204e19bfe84fbc1e5a2549\") {\n",
       "      outputDiv = document.getElementById(\"altair-viz-ab2e7f8aef204e19bfe84fbc1e5a2549\");\n",
       "    }\n",
       "    const paths = {\n",
       "      \"vega\": \"https://cdn.jsdelivr.net/npm//vega@5?noext\",\n",
       "      \"vega-lib\": \"https://cdn.jsdelivr.net/npm//vega-lib?noext\",\n",
       "      \"vega-lite\": \"https://cdn.jsdelivr.net/npm//vega-lite@4.17.0?noext\",\n",
       "      \"vega-embed\": \"https://cdn.jsdelivr.net/npm//vega-embed@6?noext\",\n",
       "    };\n",
       "\n",
       "    function maybeLoadScript(lib, version) {\n",
       "      var key = `${lib.replace(\"-\", \"\")}_version`;\n",
       "      return (VEGA_DEBUG[key] == version) ?\n",
       "        Promise.resolve(paths[lib]) :\n",
       "        new Promise(function(resolve, reject) {\n",
       "          var s = document.createElement('script');\n",
       "          document.getElementsByTagName(\"head\")[0].appendChild(s);\n",
       "          s.async = true;\n",
       "          s.onload = () => {\n",
       "            VEGA_DEBUG[key] = version;\n",
       "            return resolve(paths[lib]);\n",
       "          };\n",
       "          s.onerror = () => reject(`Error loading script: ${paths[lib]}`);\n",
       "          s.src = paths[lib];\n",
       "        });\n",
       "    }\n",
       "\n",
       "    function showError(err) {\n",
       "      outputDiv.innerHTML = `<div class=\"error\" style=\"color:red;\">${err}</div>`;\n",
       "      throw err;\n",
       "    }\n",
       "\n",
       "    function displayChart(vegaEmbed) {\n",
       "      vegaEmbed(outputDiv, spec, embedOpt)\n",
       "        .catch(err => showError(`Javascript Error: ${err.message}<br>This usually means there's a typo in your chart specification. See the javascript console for the full traceback.`));\n",
       "    }\n",
       "\n",
       "    if(typeof define === \"function\" && define.amd) {\n",
       "      requirejs.config({paths});\n",
       "      require([\"vega-embed\"], displayChart, err => showError(`Error loading script: ${err.message}`));\n",
       "    } else {\n",
       "      maybeLoadScript(\"vega\", \"5\")\n",
       "        .then(() => maybeLoadScript(\"vega-lite\", \"4.17.0\"))\n",
       "        .then(() => maybeLoadScript(\"vega-embed\", \"6\"))\n",
       "        .catch(showError)\n",
       "        .then(() => displayChart(vegaEmbed));\n",
       "    }\n",
       "  })({\"config\": {\"view\": {\"continuousWidth\": 400, \"continuousHeight\": 300}, \"axis\": {\"labelFontSize\": 16, \"titleFontSize\": 20}, \"title\": {\"anchor\": \"start\", \"fontSize\": 24}}, \"data\": {\"name\": \"data-6178a1bb67ad3b410e7b960d8294f685\"}, \"mark\": {\"type\": \"point\", \"size\": 50}, \"encoding\": {\"color\": {\"field\": \"up_down\", \"title\": \"\", \"type\": \"nominal\"}, \"x\": {\"field\": \"brightness\", \"title\": \"Brightness\", \"type\": \"quantitative\"}, \"y\": {\"field\": \"points\", \"title\": \"Number of points\", \"type\": \"quantitative\"}}, \"height\": 250, \"title\": \"Classifying a shape as Up (0) or Down (1)\", \"width\": 600, \"$schema\": \"https://vega.github.io/schema/vega-lite/v4.17.0.json\", \"datasets\": {\"data-6178a1bb67ad3b410e7b960d8294f685\": [{\"brightness\": 19, \"points\": 0, \"curve\": 0, \"up_down\": 1}, {\"brightness\": 20, \"points\": 0, \"curve\": 0, \"up_down\": 1}, {\"brightness\": 21, \"points\": 0, \"curve\": 0, \"up_down\": 1}, {\"brightness\": 22, \"points\": 0, \"curve\": 0, \"up_down\": 1}, {\"brightness\": 22, \"points\": 3, \"curve\": 0, \"up_down\": 1}, {\"brightness\": 18, \"points\": 3, \"curve\": 0, \"up_down\": 1}, {\"brightness\": 18, \"points\": 1, \"curve\": 1, \"up_down\": 1}, {\"brightness\": 19, \"points\": 0, \"curve\": 0, \"up_down\": 1}, {\"brightness\": 20, \"points\": 1, \"curve\": 0, \"up_down\": 1}, {\"brightness\": 20, \"points\": 4, \"curve\": 0, \"up_down\": 1}, {\"brightness\": 20, \"points\": 2, \"curve\": 0, \"up_down\": 1}, {\"brightness\": 22, \"points\": 2, \"curve\": 0, \"up_down\": 1}, {\"brightness\": 25, \"points\": 1, \"curve\": 0, \"up_down\": 1}, {\"brightness\": 22, \"points\": 1, \"curve\": 0, \"up_down\": 1}, {\"brightness\": 18, \"points\": 5, \"curve\": 0, \"up_down\": 1}, {\"brightness\": 19, \"points\": 8, \"curve\": 0, \"up_down\": 1}, {\"brightness\": 21, \"points\": 9, \"curve\": 0, \"up_down\": 1}, {\"brightness\": 23, \"points\": 7, \"curve\": 0, \"up_down\": 1}, {\"brightness\": 22, \"points\": 10, \"curve\": 0, \"up_down\": 1}, {\"brightness\": 26, \"points\": 4, \"curve\": 0, \"up_down\": 1}, {\"brightness\": 30, \"points\": 3, \"curve\": 0, \"up_down\": 0}, {\"brightness\": 30, \"points\": 2, \"curve\": 0, \"up_down\": 0}, {\"brightness\": 45, \"points\": 1, \"curve\": 1, \"up_down\": 0}, {\"brightness\": 45, \"points\": 3, \"curve\": 1, \"up_down\": 0}, {\"brightness\": 40, \"points\": 1, \"curve\": 1, \"up_down\": 0}, {\"brightness\": 40, \"points\": 2, \"curve\": 1, \"up_down\": 0}, {\"brightness\": 36, \"points\": 0, \"curve\": 0, \"up_down\": 0}, {\"brightness\": 32, \"points\": 1, \"curve\": 0, \"up_down\": 0}, {\"brightness\": 40, \"points\": 0, \"curve\": 0, \"up_down\": 0}, {\"brightness\": 31, \"points\": 1, \"curve\": 0, \"up_down\": 0}, {\"brightness\": 35, \"points\": 3, \"curve\": 0, \"up_down\": 0}, {\"brightness\": 31, \"points\": 0, \"curve\": 0, \"up_down\": 0}, {\"brightness\": 32, \"points\": 0, \"curve\": 0, \"up_down\": 0}, {\"brightness\": 33, \"points\": 0, \"curve\": 0, \"up_down\": 0}, {\"brightness\": 40, \"points\": 7, \"curve\": 0, \"up_down\": 0}, {\"brightness\": 42, \"points\": 6, \"curve\": 0, \"up_down\": 0}, {\"brightness\": 35, \"points\": 4, \"curve\": 0, \"up_down\": 0}]}}, {\"mode\": \"vega-lite\"});\n",
       "</script>"
      ],
      "text/plain": [
       "alt.Chart(...)"
      ]
     },
     "execution_count": 6,
     "metadata": {},
     "output_type": "execute_result"
    }
   ],
   "source": [
    "chart_trial"
   ]
  },
  {
   "cell_type": "markdown",
   "id": "e33b1643-f545-4e8d-9976-4fdfea027dea",
   "metadata": {
    "slideshow": {
     "slide_type": "subslide"
    }
   },
   "source": [
    "### Formalizing our Intuition\n",
    "\n",
    "- What if we looked at the closest \"neighbour\" of the test point, and just classify based on the neighbouring point?"
   ]
  },
  {
   "cell_type": "markdown",
   "id": "229c63c7-f661-4533-bb99-12e48feb9035",
   "metadata": {
    "cell_style": "split",
    "slideshow": {
     "slide_type": "fragment"
    }
   },
   "source": [
    "- How would we quantify the closest neighbour?\n",
    "    - Euclidean Distance between point A, $P_A$($x_1$,$y_1$) and point B, $P_B$($x_2$,$y_2$) is:\n",
    "       - $d = \\sqrt{ (x_2 - x_1)^2 + (y_2 - y_1)^2) }$\n",
    "       \n",
    "    - Note: Euclidean distance is just the pythagoras theorem!"
   ]
  },
  {
   "cell_type": "markdown",
   "id": "89112d47",
   "metadata": {
    "cell_style": "split",
    "slideshow": {
     "slide_type": "fragment"
    }
   },
   "source": [
    "<img src=\"imgs/euclidean.png\" width=60% align=\"center\">\n",
    "\n",
    "**Caption**: Definition of the 2D Euclidean distance in relation to the familiar Pythagoras Theorem."
   ]
  },
  {
   "cell_type": "markdown",
   "id": "bdca9ca2-263c-4e62-83d7-153c0a8fcb5e",
   "metadata": {
    "slideshow": {
     "slide_type": "subslide"
    }
   },
   "source": [
    "### Setting a Boundary\n",
    "\n",
    "It becomes clear that if you were to check every point with the classifier, a boundary forms.\n",
    "Here's what that looks like with the current classifier and the current training data:"
   ]
  },
  {
   "cell_type": "markdown",
   "id": "a3fd876c-25c8-4f52-b11e-84ffb73f3be3",
   "metadata": {},
   "source": [
    "<img src=\"imgs/boundary.png\" width=60%>"
   ]
  },
  {
   "cell_type": "markdown",
   "id": "489c91b4-0f2d-457b-ae5d-0ed9a7d14f7f",
   "metadata": {
    "slideshow": {
     "slide_type": "fragment"
    }
   },
   "source": [
    "Quite often, decision boundaries are not that clear (otherwise we wouldn't need machine learning!) and the more data (and classes) there are, the more likely it is that boundaries are complex!"
   ]
  },
  {
   "cell_type": "markdown",
   "id": "41c3743f-5304-431a-9853-b8eed364422a",
   "metadata": {
    "slideshow": {
     "slide_type": "slide"
    },
    "tags": []
   },
   "source": [
    "## $k$ Nearest Neighbours (kNN) method (8 mins)\n",
    "\n",
    "<img src =\"imgs/knn.png\" width=60%>\n",
    "\n",
    "**Caption**: Pictoral description of the kNN algorithm, with three different classes (A, B, C) and a test point ($P_t$). The $k$ nearest neighbours of $P_t$ dictates which class the point belongs to. Source: {cite}`Atallah:2019`"
   ]
  },
  {
   "cell_type": "markdown",
   "id": "525a51c4-1ff0-49c0-90b0-259c5a1ea194",
   "metadata": {
    "slideshow": {
     "slide_type": "subslide"
    }
   },
   "source": [
    "### Problem 1: Scaling\n",
    "\n",
    "- What is one problem with this method?\n",
    "    - Points that look equidistant will not have the same distances unless the data are re-scaled\n",
    "    "
   ]
  },
  {
   "cell_type": "markdown",
   "id": "85b081aa-d074-48c1-b733-ddfa56a4db57",
   "metadata": {
    "slideshow": {
     "slide_type": "fragment"
    }
   },
   "source": [
    "- **Solution: Re-scale the data!**\n",
    "    \n",
    "    - To address this problem, we can re-scale the data by transforming the data so it has a mean of 0, and a standard deviation of 1.\n",
    "\n",
    "    - We can do this by subtracting the mean $\\bar{x}$, and then dividing by the standard deviation $\\sigma$.\n",
    "\n",
    "    $$\n",
    "    Data_{scaled} = \\frac{x - \\bar{x}}{\\sigma}\n",
    "    $$\n",
    "\n",
    "    - You may recognize this as a $z$-score"
   ]
  },
  {
   "cell_type": "markdown",
   "id": "2a7f3fe3-80f4-4b41-b72c-430b4d7e0849",
   "metadata": {
    "slideshow": {
     "slide_type": "subslide"
    }
   },
   "source": [
    "### Problem 2: Stability/outliers\n",
    "\n",
    "- What is a second problem with this method?\n",
    "    - If our data is noisy, this method is prone to errors due to outliers and/or just random chance"
   ]
  },
  {
   "cell_type": "markdown",
   "id": "1a76dfbe-41cf-4a78-8b07-4be18bb4dcdc",
   "metadata": {
    "slideshow": {
     "slide_type": "fragment"
    }
   },
   "source": [
    "- **Solution: Consider more than one neighbour!**\n",
    "    - How many neighbours?\n",
    "        - Choose an odd number so there are no ties!\n",
    "        - Start with a low-number ($k_1 = 3$), run your classification on the training dataset, record accuracy; repeat for a bunch of $k$ values.\n",
    "        - Plot the accuracy vs. $k$, and pick the highest one! (Yes, really!)\n",
    "        - Rough guideline: $k$ will depend on the size of your dataset. Probably not worth it to increase $k$ beyond $\\approx \\sqrt{N}$, where $N$ is the number of data points."
   ]
  },
  {
   "cell_type": "markdown",
   "id": "1b0aeb86-1274-44c7-8409-d03d9cdab0a0",
   "metadata": {
    "slideshow": {
     "slide_type": "subslide"
    },
    "tags": []
   },
   "source": [
    "### Demo of kNN"
   ]
  },
  {
   "cell_type": "markdown",
   "id": "908793f7-cb43-4388-8438-64fa2a783e57",
   "metadata": {
    "slideshow": {
     "slide_type": "fragment"
    }
   },
   "source": [
    "Steps of kNN:\n",
    "\n",
    "- Load Training Data\n",
    "- Visualize Data\n",
    "- Process Data\n",
    "- Create classifier\n",
    "- Train Algorithm\n",
    "- Check accuracy of classifier"
   ]
  },
  {
   "cell_type": "code",
   "execution_count": 7,
   "id": "49383d05-8959-4ca3-86af-4e688ca7f9b5",
   "metadata": {
    "slideshow": {
     "slide_type": "fragment"
    }
   },
   "outputs": [
    {
     "data": {
      "text/html": [
       "<div>\n",
       "<style scoped>\n",
       "    .dataframe tbody tr th:only-of-type {\n",
       "        vertical-align: middle;\n",
       "    }\n",
       "\n",
       "    .dataframe tbody tr th {\n",
       "        vertical-align: top;\n",
       "    }\n",
       "\n",
       "    .dataframe thead th {\n",
       "        text-align: right;\n",
       "    }\n",
       "</style>\n",
       "<table border=\"1\" class=\"dataframe\">\n",
       "  <thead>\n",
       "    <tr style=\"text-align: right;\">\n",
       "      <th></th>\n",
       "      <th>brightness</th>\n",
       "      <th>points</th>\n",
       "      <th>curve</th>\n",
       "      <th>up_down</th>\n",
       "    </tr>\n",
       "  </thead>\n",
       "  <tbody>\n",
       "    <tr>\n",
       "      <th>0</th>\n",
       "      <td>28</td>\n",
       "      <td>8</td>\n",
       "      <td>0</td>\n",
       "      <td>1</td>\n",
       "    </tr>\n",
       "    <tr>\n",
       "      <th>1</th>\n",
       "      <td>23</td>\n",
       "      <td>1</td>\n",
       "      <td>1</td>\n",
       "      <td>0</td>\n",
       "    </tr>\n",
       "    <tr>\n",
       "      <th>2</th>\n",
       "      <td>24</td>\n",
       "      <td>3</td>\n",
       "      <td>0</td>\n",
       "      <td>1</td>\n",
       "    </tr>\n",
       "    <tr>\n",
       "      <th>3</th>\n",
       "      <td>20</td>\n",
       "      <td>0</td>\n",
       "      <td>0</td>\n",
       "      <td>1</td>\n",
       "    </tr>\n",
       "    <tr>\n",
       "      <th>4</th>\n",
       "      <td>27</td>\n",
       "      <td>3</td>\n",
       "      <td>0</td>\n",
       "      <td>0</td>\n",
       "    </tr>\n",
       "    <tr>\n",
       "      <th>...</th>\n",
       "      <td>...</td>\n",
       "      <td>...</td>\n",
       "      <td>...</td>\n",
       "      <td>...</td>\n",
       "    </tr>\n",
       "    <tr>\n",
       "      <th>4217</th>\n",
       "      <td>27</td>\n",
       "      <td>1</td>\n",
       "      <td>0</td>\n",
       "      <td>0</td>\n",
       "    </tr>\n",
       "    <tr>\n",
       "      <th>4218</th>\n",
       "      <td>50</td>\n",
       "      <td>3</td>\n",
       "      <td>1</td>\n",
       "      <td>1</td>\n",
       "    </tr>\n",
       "    <tr>\n",
       "      <th>4219</th>\n",
       "      <td>43</td>\n",
       "      <td>1</td>\n",
       "      <td>0</td>\n",
       "      <td>1</td>\n",
       "    </tr>\n",
       "    <tr>\n",
       "      <th>4220</th>\n",
       "      <td>44</td>\n",
       "      <td>1</td>\n",
       "      <td>0</td>\n",
       "      <td>0</td>\n",
       "    </tr>\n",
       "    <tr>\n",
       "      <th>4221</th>\n",
       "      <td>46</td>\n",
       "      <td>0</td>\n",
       "      <td>0</td>\n",
       "      <td>0</td>\n",
       "    </tr>\n",
       "  </tbody>\n",
       "</table>\n",
       "<p>4222 rows × 4 columns</p>\n",
       "</div>"
      ],
      "text/plain": [
       "      brightness  points  curve  up_down\n",
       "0             28       8      0        1\n",
       "1             23       1      1        0\n",
       "2             24       3      0        1\n",
       "3             20       0      0        1\n",
       "4             27       3      0        0\n",
       "...          ...     ...    ...      ...\n",
       "4217          27       1      0        0\n",
       "4218          50       3      1        1\n",
       "4219          43       1      0        1\n",
       "4220          44       1      0        0\n",
       "4221          46       0      0        0\n",
       "\n",
       "[4222 rows x 4 columns]"
      ]
     },
     "execution_count": 7,
     "metadata": {},
     "output_type": "execute_result"
    }
   ],
   "source": [
    "# First let's load our data set\n",
    "train = read_csv('data/train.csv')\n",
    "train"
   ]
  },
  {
   "cell_type": "markdown",
   "id": "9a221db2-5688-4416-aaa2-9c43194ae37e",
   "metadata": {
    "slideshow": {
     "slide_type": "subslide"
    }
   },
   "source": [
    "That's a lot of data points! \n",
    "\n",
    "Let's try to visualize it:\n",
    "\n",
    "<img src=\"imgs/train.png\" width=80%>"
   ]
  },
  {
   "cell_type": "markdown",
   "id": "0d3f31d7-f28c-4c0e-b2e6-dcf689b56925",
   "metadata": {
    "slideshow": {
     "slide_type": "fragment"
    }
   },
   "source": [
    "That's a lot of points! It's probably not going to be so easy to easily visualize a decision boundary on this one.\n",
    "\n",
    "Let's go ahead and set up our Machine Learning problem!"
   ]
  },
  {
   "cell_type": "code",
   "execution_count": 8,
   "id": "0565e773",
   "metadata": {},
   "outputs": [
    {
     "data": {
      "text/html": [
       "<div>\n",
       "<style scoped>\n",
       "    .dataframe tbody tr th:only-of-type {\n",
       "        vertical-align: middle;\n",
       "    }\n",
       "\n",
       "    .dataframe tbody tr th {\n",
       "        vertical-align: top;\n",
       "    }\n",
       "\n",
       "    .dataframe thead th {\n",
       "        text-align: right;\n",
       "    }\n",
       "</style>\n",
       "<table border=\"1\" class=\"dataframe\">\n",
       "  <thead>\n",
       "    <tr style=\"text-align: right;\">\n",
       "      <th></th>\n",
       "      <th>brightness</th>\n",
       "      <th>points</th>\n",
       "      <th>curve</th>\n",
       "      <th>up_down</th>\n",
       "    </tr>\n",
       "  </thead>\n",
       "  <tbody>\n",
       "    <tr>\n",
       "      <th>0</th>\n",
       "      <td>28</td>\n",
       "      <td>8</td>\n",
       "      <td>0</td>\n",
       "      <td>1</td>\n",
       "    </tr>\n",
       "    <tr>\n",
       "      <th>1</th>\n",
       "      <td>23</td>\n",
       "      <td>1</td>\n",
       "      <td>1</td>\n",
       "      <td>0</td>\n",
       "    </tr>\n",
       "    <tr>\n",
       "      <th>2</th>\n",
       "      <td>24</td>\n",
       "      <td>3</td>\n",
       "      <td>0</td>\n",
       "      <td>1</td>\n",
       "    </tr>\n",
       "    <tr>\n",
       "      <th>3</th>\n",
       "      <td>20</td>\n",
       "      <td>0</td>\n",
       "      <td>0</td>\n",
       "      <td>1</td>\n",
       "    </tr>\n",
       "    <tr>\n",
       "      <th>4</th>\n",
       "      <td>27</td>\n",
       "      <td>3</td>\n",
       "      <td>0</td>\n",
       "      <td>0</td>\n",
       "    </tr>\n",
       "    <tr>\n",
       "      <th>...</th>\n",
       "      <td>...</td>\n",
       "      <td>...</td>\n",
       "      <td>...</td>\n",
       "      <td>...</td>\n",
       "    </tr>\n",
       "    <tr>\n",
       "      <th>4217</th>\n",
       "      <td>27</td>\n",
       "      <td>1</td>\n",
       "      <td>0</td>\n",
       "      <td>0</td>\n",
       "    </tr>\n",
       "    <tr>\n",
       "      <th>4218</th>\n",
       "      <td>50</td>\n",
       "      <td>3</td>\n",
       "      <td>1</td>\n",
       "      <td>1</td>\n",
       "    </tr>\n",
       "    <tr>\n",
       "      <th>4219</th>\n",
       "      <td>43</td>\n",
       "      <td>1</td>\n",
       "      <td>0</td>\n",
       "      <td>1</td>\n",
       "    </tr>\n",
       "    <tr>\n",
       "      <th>4220</th>\n",
       "      <td>44</td>\n",
       "      <td>1</td>\n",
       "      <td>0</td>\n",
       "      <td>0</td>\n",
       "    </tr>\n",
       "    <tr>\n",
       "      <th>4221</th>\n",
       "      <td>46</td>\n",
       "      <td>0</td>\n",
       "      <td>0</td>\n",
       "      <td>0</td>\n",
       "    </tr>\n",
       "  </tbody>\n",
       "</table>\n",
       "<p>4222 rows × 4 columns</p>\n",
       "</div>"
      ],
      "text/plain": [
       "      brightness  points  curve  up_down\n",
       "0             28       8      0        1\n",
       "1             23       1      1        0\n",
       "2             24       3      0        1\n",
       "3             20       0      0        1\n",
       "4             27       3      0        0\n",
       "...          ...     ...    ...      ...\n",
       "4217          27       1      0        0\n",
       "4218          50       3      1        1\n",
       "4219          43       1      0        1\n",
       "4220          44       1      0        0\n",
       "4221          46       0      0        0\n",
       "\n",
       "[4222 rows x 4 columns]"
      ]
     },
     "execution_count": 8,
     "metadata": {},
     "output_type": "execute_result"
    }
   ],
   "source": [
    "train"
   ]
  },
  {
   "cell_type": "code",
   "execution_count": 9,
   "id": "3c6f1d04-c95d-479d-b353-eb762a529a6a",
   "metadata": {
    "slideshow": {
     "slide_type": "subslide"
    }
   },
   "outputs": [
    {
     "data": {
      "text/html": [
       "<div>\n",
       "<style scoped>\n",
       "    .dataframe tbody tr th:only-of-type {\n",
       "        vertical-align: middle;\n",
       "    }\n",
       "\n",
       "    .dataframe tbody tr th {\n",
       "        vertical-align: top;\n",
       "    }\n",
       "\n",
       "    .dataframe thead th {\n",
       "        text-align: right;\n",
       "    }\n",
       "</style>\n",
       "<table border=\"1\" class=\"dataframe\">\n",
       "  <thead>\n",
       "    <tr style=\"text-align: right;\">\n",
       "      <th></th>\n",
       "      <th>brightness</th>\n",
       "      <th>points</th>\n",
       "      <th>curve</th>\n",
       "      <th>up_down</th>\n",
       "    </tr>\n",
       "  </thead>\n",
       "  <tbody>\n",
       "    <tr>\n",
       "      <th>0</th>\n",
       "      <td>-0.548883</td>\n",
       "      <td>0.913568</td>\n",
       "      <td>0</td>\n",
       "      <td>1</td>\n",
       "    </tr>\n",
       "    <tr>\n",
       "      <th>1</th>\n",
       "      <td>-0.978713</td>\n",
       "      <td>-0.508361</td>\n",
       "      <td>1</td>\n",
       "      <td>0</td>\n",
       "    </tr>\n",
       "    <tr>\n",
       "      <th>2</th>\n",
       "      <td>-0.892747</td>\n",
       "      <td>-0.102096</td>\n",
       "      <td>0</td>\n",
       "      <td>1</td>\n",
       "    </tr>\n",
       "    <tr>\n",
       "      <th>3</th>\n",
       "      <td>-1.236610</td>\n",
       "      <td>-0.711494</td>\n",
       "      <td>0</td>\n",
       "      <td>1</td>\n",
       "    </tr>\n",
       "    <tr>\n",
       "      <th>4</th>\n",
       "      <td>-0.634849</td>\n",
       "      <td>-0.102096</td>\n",
       "      <td>0</td>\n",
       "      <td>0</td>\n",
       "    </tr>\n",
       "  </tbody>\n",
       "</table>\n",
       "</div>"
      ],
      "text/plain": [
       "   brightness    points  curve  up_down\n",
       "0   -0.548883  0.913568      0        1\n",
       "1   -0.978713 -0.508361      1        0\n",
       "2   -0.892747 -0.102096      0        1\n",
       "3   -1.236610 -0.711494      0        1\n",
       "4   -0.634849 -0.102096      0        0"
      ]
     },
     "execution_count": 9,
     "metadata": {},
     "output_type": "execute_result"
    }
   ],
   "source": [
    "# First, let's rescale our data set and keep the means and standard deviations\n",
    "\n",
    "train_mean = train.mean().to_dict()\n",
    "train_std = train.std(ddof=0).to_dict()\n",
    "\n",
    "for col in ['brightness','points']:\n",
    "    train[col] = (train[col] - train_mean[col]) / train_std[col]\n",
    "    \n",
    "train.head()"
   ]
  },
  {
   "cell_type": "code",
   "execution_count": 10,
   "id": "2fa22b14-dd40-4b1b-8cb1-0e9205980a6c",
   "metadata": {
    "slideshow": {
     "slide_type": "fragment"
    }
   },
   "outputs": [],
   "source": [
    "# Then, let's create a classifier \n",
    "\n",
    "classifier = KNN(n_neighbors=5, metric='euclidean')"
   ]
  },
  {
   "cell_type": "code",
   "execution_count": 11,
   "id": "a5a5cf30-0b5b-496b-a92c-656f9731139d",
   "metadata": {
    "slideshow": {
     "slide_type": "fragment"
    }
   },
   "outputs": [
    {
     "data": {
      "text/plain": [
       "KNeighborsClassifier(metric='euclidean')"
      ]
     },
     "execution_count": 11,
     "metadata": {},
     "output_type": "execute_result"
    }
   ],
   "source": [
    "# Now, let's Train our model\n",
    "\n",
    "classifier.fit(X = train[['brightness','points','curve']],\n",
    "               y = train['up_down'])"
   ]
  },
  {
   "cell_type": "code",
   "execution_count": 12,
   "id": "8b20a2c0-42d7-4fb4-b1c9-db92e907055b",
   "metadata": {
    "slideshow": {
     "slide_type": "fragment"
    }
   },
   "outputs": [
    {
     "data": {
      "text/plain": [
       "array([1, 0, 1, ..., 0, 0, 0])"
      ]
     },
     "execution_count": 12,
     "metadata": {},
     "output_type": "execute_result"
    }
   ],
   "source": [
    "# Let's use the classifier to predict each row of our training data set:\n",
    "\n",
    "predictions = classifier.predict(train[['brightness','points','curve']])\n",
    "predictions"
   ]
  },
  {
   "cell_type": "markdown",
   "id": "50617793-b897-41ce-8dee-2fe575b64a9d",
   "metadata": {
    "slideshow": {
     "slide_type": "fragment"
    }
   },
   "source": [
    "Slightly anticlimatic right?\n",
    "\n",
    "Let's check to see how well we did..."
   ]
  },
  {
   "cell_type": "markdown",
   "id": "a12235a5-3805-4b30-86d3-d6bb35ac4ffb",
   "metadata": {
    "slideshow": {
     "slide_type": "subslide"
    }
   },
   "source": [
    "### Review of KNN\n",
    "\n",
    "<img src=\"https://cambridgecoding.files.wordpress.com/2016/01/knn2.jpg\" width=100%>\n",
    "\n",
    "[Source: Natasha Latysheva, Cambridge Coding Academy](https://cambridgecoding.wordpress.com/2016/01/16/machine-learning-under-the-hood-writing-your-own-k-nearest-neighbour-algorithm/)"
   ]
  },
  {
   "cell_type": "markdown",
   "id": "c8a156b2-b45c-45f0-a88c-43126d5a202a",
   "metadata": {
    "slideshow": {
     "slide_type": "slide"
    }
   },
   "source": [
    "## Checking prediction accuracy (5 mins)\n",
    "\n",
    "- How do we check how well we did?"
   ]
  },
  {
   "cell_type": "code",
   "execution_count": 14,
   "id": "96a86684-11d8-4a24-8619-469d3b25fbff",
   "metadata": {
    "slideshow": {
     "slide_type": "fragment"
    }
   },
   "outputs": [
    {
     "name": "stdout",
     "output_type": "stream",
     "text": [
      "The model accuracy is 70.5%.\n"
     ]
    }
   ],
   "source": [
    "check_accuracy(train['up_down'],predictions) "
   ]
  },
  {
   "cell_type": "markdown",
   "id": "a75148a1-e929-4315-9fba-d9b091209417",
   "metadata": {
    "slideshow": {
     "slide_type": "fragment"
    }
   },
   "source": [
    "At this point you should question your decisions.\n",
    "\n",
    "<img src=\"https://media3.giphy.com/media/8cPKrvyEpAMu2QFDWe/giphy.gif?cid=ecf05e47v152n2xlz4w3weap7880dy81u4rq4hs1zlds4o2q&rid=giphy.gif&ct=g\">"
   ]
  },
  {
   "cell_type": "markdown",
   "id": "a034da26-de95-40e3-a5bb-64e5c0ae13ec",
   "metadata": {
    "slideshow": {
     "slide_type": "subslide"
    }
   },
   "source": [
    "### Separating the training and testing data\n",
    "\n",
    "- To determine accuracy, you **MUST** use data that the classifier has never seen before.\n",
    "\n",
    "- Some people call this, the \"Golden Rule\" of Machine Learning:\n",
    "\n",
    "> The Test data cannot influence the training data in any way\""
   ]
  },
  {
   "cell_type": "markdown",
   "id": "9a47f405-28a2-4824-8c27-021d6d58d6d4",
   "metadata": {
    "slideshow": {
     "slide_type": "subslide"
    }
   },
   "source": [
    "### Training and Testing Paradigm\n",
    "\n",
    "- Before you start working with the data, you should \"split\" the data into a \"training set\" and a \"test set\"\n",
    "\n",
    "<img src=\"imgs/training_test.png\" width=80%>\n",
    "\n",
    "- Luckily, I did all the split for you and saved it as a separate file: `test.csv`"
   ]
  },
  {
   "cell_type": "code",
   "execution_count": 16,
   "id": "4c7078d3-694d-4873-b972-c3c86e440227",
   "metadata": {
    "slideshow": {
     "slide_type": "subslide"
    }
   },
   "outputs": [
    {
     "data": {
      "text/html": [
       "<div>\n",
       "<style scoped>\n",
       "    .dataframe tbody tr th:only-of-type {\n",
       "        vertical-align: middle;\n",
       "    }\n",
       "\n",
       "    .dataframe tbody tr th {\n",
       "        vertical-align: top;\n",
       "    }\n",
       "\n",
       "    .dataframe thead th {\n",
       "        text-align: right;\n",
       "    }\n",
       "</style>\n",
       "<table border=\"1\" class=\"dataframe\">\n",
       "  <thead>\n",
       "    <tr style=\"text-align: right;\">\n",
       "      <th></th>\n",
       "      <th>brightness</th>\n",
       "      <th>points</th>\n",
       "      <th>curve</th>\n",
       "      <th>up_down</th>\n",
       "    </tr>\n",
       "  </thead>\n",
       "  <tbody>\n",
       "    <tr>\n",
       "      <th>0</th>\n",
       "      <td>26</td>\n",
       "      <td>0</td>\n",
       "      <td>1</td>\n",
       "      <td>0</td>\n",
       "    </tr>\n",
       "    <tr>\n",
       "      <th>1</th>\n",
       "      <td>22</td>\n",
       "      <td>3</td>\n",
       "      <td>1</td>\n",
       "      <td>1</td>\n",
       "    </tr>\n",
       "    <tr>\n",
       "      <th>2</th>\n",
       "      <td>57</td>\n",
       "      <td>0</td>\n",
       "      <td>0</td>\n",
       "      <td>0</td>\n",
       "    </tr>\n",
       "    <tr>\n",
       "      <th>3</th>\n",
       "      <td>34</td>\n",
       "      <td>1</td>\n",
       "      <td>0</td>\n",
       "      <td>0</td>\n",
       "    </tr>\n",
       "    <tr>\n",
       "      <th>4</th>\n",
       "      <td>21</td>\n",
       "      <td>1</td>\n",
       "      <td>0</td>\n",
       "      <td>0</td>\n",
       "    </tr>\n",
       "    <tr>\n",
       "      <th>...</th>\n",
       "      <td>...</td>\n",
       "      <td>...</td>\n",
       "      <td>...</td>\n",
       "      <td>...</td>\n",
       "    </tr>\n",
       "    <tr>\n",
       "      <th>1051</th>\n",
       "      <td>33</td>\n",
       "      <td>14</td>\n",
       "      <td>0</td>\n",
       "      <td>1</td>\n",
       "    </tr>\n",
       "    <tr>\n",
       "      <th>1052</th>\n",
       "      <td>22</td>\n",
       "      <td>0</td>\n",
       "      <td>1</td>\n",
       "      <td>1</td>\n",
       "    </tr>\n",
       "    <tr>\n",
       "      <th>1053</th>\n",
       "      <td>42</td>\n",
       "      <td>0</td>\n",
       "      <td>0</td>\n",
       "      <td>0</td>\n",
       "    </tr>\n",
       "    <tr>\n",
       "      <th>1054</th>\n",
       "      <td>44</td>\n",
       "      <td>6</td>\n",
       "      <td>0</td>\n",
       "      <td>1</td>\n",
       "    </tr>\n",
       "    <tr>\n",
       "      <th>1055</th>\n",
       "      <td>31</td>\n",
       "      <td>13</td>\n",
       "      <td>0</td>\n",
       "      <td>1</td>\n",
       "    </tr>\n",
       "  </tbody>\n",
       "</table>\n",
       "<p>1056 rows × 4 columns</p>\n",
       "</div>"
      ],
      "text/plain": [
       "      brightness  points  curve  up_down\n",
       "0             26       0      1        0\n",
       "1             22       3      1        1\n",
       "2             57       0      0        0\n",
       "3             34       1      0        0\n",
       "4             21       1      0        0\n",
       "...          ...     ...    ...      ...\n",
       "1051          33      14      0        1\n",
       "1052          22       0      1        1\n",
       "1053          42       0      0        0\n",
       "1054          44       6      0        1\n",
       "1055          31      13      0        1\n",
       "\n",
       "[1056 rows x 4 columns]"
      ]
     },
     "execution_count": 16,
     "metadata": {},
     "output_type": "execute_result"
    }
   ],
   "source": [
    "# Let's load the test data set\n",
    "\n",
    "test = read_csv('data/test.csv')\n",
    "test"
   ]
  },
  {
   "cell_type": "code",
   "execution_count": 17,
   "id": "47a2f24b-f33a-432f-bf31-cb35928f4b0d",
   "metadata": {
    "slideshow": {
     "slide_type": "fragment"
    }
   },
   "outputs": [],
   "source": [
    "# First, let's rescale our data the *exact* same we did our training data set\n",
    "\n",
    "for col in ['brightness','points','curve']:\n",
    "    test[col] = (test[col] - train_mean[col]) / train_std[col]"
   ]
  },
  {
   "cell_type": "code",
   "execution_count": 18,
   "id": "838efc68-8fee-4cf1-84ce-2c88b407c5d6",
   "metadata": {
    "slideshow": {
     "slide_type": "fragment"
    }
   },
   "outputs": [
    {
     "data": {
      "text/plain": [
       "array([0, 1, 0, ..., 0, 1, 1])"
      ]
     },
     "execution_count": 18,
     "metadata": {},
     "output_type": "execute_result"
    }
   ],
   "source": [
    "# Let's use the classifier to predict each row of our TESTING data set:\n",
    "\n",
    "predictions = classifier.predict(test[['brightness','points','curve']])\n",
    "predictions"
   ]
  },
  {
   "cell_type": "code",
   "execution_count": 20,
   "id": "2e4dd147-d7f3-454a-8515-d9620ead383a",
   "metadata": {
    "slideshow": {
     "slide_type": "fragment"
    }
   },
   "outputs": [
    {
     "name": "stdout",
     "output_type": "stream",
     "text": [
      "The model accuracy is 64.3%.\n"
     ]
    }
   ],
   "source": [
    "# And finally, check our accuracy\n",
    "check_accuracy(test['up_down'],predictions)"
   ]
  },
  {
   "cell_type": "markdown",
   "id": "492d9899-e7c0-4e53-9d76-45c8a9a3d71e",
   "metadata": {
    "cell_style": "split",
    "slideshow": {
     "slide_type": "slide"
    }
   },
   "source": [
    "## Context Matters (10 mins)\n",
    "\n",
    "- Let's start with the accuracy numbers:\n",
    "    - Our algorithm gets it right ~ 63 times out of 100.\n",
    "    - That's not bad - it's okay if we mis-classify some of them right?"
   ]
  },
  {
   "cell_type": "markdown",
   "id": "102bc22e-4c5e-4e95-9050-94c73a2d18a7",
   "metadata": {
    "cell_style": "split",
    "slideshow": {
     "slide_type": "fragment"
    }
   },
   "source": [
    "- What if I told you that the data you've been working with has nothing to do with shapes, but people?\n",
    "\n",
    "<img src=\"https://media3.giphy.com/media/8cPKrvyEpAMu2QFDWe/giphy.gif?cid=ecf05e47v152n2xlz4w3weap7880dy81u4rq4hs1zlds4o2q&rid=giphy.gif&ct=g\" align=\"center\">"
   ]
  },
  {
   "cell_type": "markdown",
   "id": "e47e740b-6658-48f8-bbdd-6c6ce958aae2",
   "metadata": {
    "slideshow": {
     "slide_type": "subslide"
    }
   },
   "source": [
    "### The Context"
   ]
  },
  {
   "cell_type": "markdown",
   "id": "8193ae14-9d56-4a83-b123-7fd492572031",
   "metadata": {
    "slideshow": {
     "slide_type": "fragment"
    }
   },
   "source": [
    "<img src=\"https://www.pewresearch.org/wp-content/uploads/2021/08/FT_21.08.12_Incarceration_2.png\" width=100%>\n",
    "\n",
    "[Source: Pew Research](https://www.pewresearch.org/fact-tank/2021/08/16/americas-incarceration-rate-lowest-since-1995/)"
   ]
  },
  {
   "cell_type": "markdown",
   "id": "63262d74-942e-4b16-97ba-0e67c3fee10b",
   "metadata": {
    "slideshow": {
     "slide_type": "fragment"
    }
   },
   "source": [
    "- It is illegal in the United States for judges to sentence based on race, color, religion, sex, age.\n",
    "\n",
    "- And yet..."
   ]
  },
  {
   "cell_type": "markdown",
   "id": "f40787cd-94fc-489d-8dfc-4bd181933c23",
   "metadata": {
    "slideshow": {
     "slide_type": "fragment"
    }
   },
   "source": [
    "<img src=\"https://www.sentencingproject.org/wp-content/uploads/2021/05/lifetime-likelihood-by-race.png\" width=100%>\n",
    "\n",
    "[Source: The Sentencing Project](https://www.sentencingproject.org/criminal-justice-facts/)"
   ]
  },
  {
   "cell_type": "markdown",
   "id": "27b23b33-3c63-4094-b0c4-7e93ed3cd755",
   "metadata": {
    "slideshow": {
     "slide_type": "subslide"
    }
   },
   "source": [
    "### Enter Machine Learning... \n",
    "\n",
    "Motivation\n",
    "\n",
    "> \"The United States locks up far more people than any other country, a disproportionate number of them black. For more than two centuries, the key decisions in the legal process, from pretrial release to sentencing to parole, have been in the hands of human beings guided by their instincts and personal biases.\"\n",
    "\n",
    "- [Machine Bias Risk Assessments in Criminal Sentencing](https://www.propublica.org/article/machine-bias-risk-assessments-in-criminal-sentencing)\n",
    "\n",
    "\n"
   ]
  },
  {
   "cell_type": "markdown",
   "id": "023c3d85-c5f3-4c3f-8f96-474997a9af19",
   "metadata": {
    "slideshow": {
     "slide_type": "subslide"
    }
   },
   "source": [
    "Risk Scores\n",
    "\n",
    "> \"If computers could accurately predict which defendants were likely to commit new crimes, the criminal justice system could be fairer and more selective about who is incarcerated and for how long. The trick, of course, is to make sure the computer gets it right. If it’s wrong in one direction, a dangerous criminal could go free. If it’s wrong in another direction, it could result in someone unfairly receiving a harsher sentence or waiting longer for parole than is appropriate.\"\n",
    "\n",
    "- [Machine Bias Risk Assessments in Criminal Sentencing](https://www.propublica.org/article/machine-bias-risk-assessments-in-criminal-sentencing)"
   ]
  },
  {
   "cell_type": "markdown",
   "id": "0af4696e-c8e1-446a-b9f5-875a5b6cb74c",
   "metadata": {
    "slideshow": {
     "slide_type": "subslide"
    }
   },
   "source": [
    "COMPAS is one such proprietary software, developed by a for-profit company called Northpointe.\n",
    "\n",
    "Here's how it performs:\n",
    "\n",
    "<img src=\"imgs/propublica2.png\" width=80%>\n",
    "\n",
    "[Source: ProPublica](https://www.propublica.org/article/machine-bias-risk-assessments-in-criminal-sentencing)"
   ]
  },
  {
   "cell_type": "markdown",
   "id": "e3d4906a-d85c-4a1b-9816-f9500168950c",
   "metadata": {
    "slideshow": {
     "slide_type": "subslide"
    }
   },
   "source": [
    "### Coming Clean\n",
    "\n",
    "<img src=\"imgs/propublica.png\" width=100%>\n",
    "\n",
    "[Source: ProPublica](https://www.propublica.org/article/machine-bias-risk-assessments-in-criminal-sentencing)"
   ]
  },
  {
   "cell_type": "markdown",
   "id": "adf33c66-e615-41de-a87a-4454ead6c691",
   "metadata": {
    "slideshow": {
     "slide_type": "fragment"
    }
   },
   "source": [
    "<img src=\"imgs/shape_context.png\" width=100%>\n",
    "\n",
    "[Source: ProPublica](https://www.propublica.org/article/machine-bias-risk-assessments-in-criminal-sentencing)"
   ]
  },
  {
   "cell_type": "markdown",
   "id": "92d3eab5-18e4-4343-88b5-55b4015e6634",
   "metadata": {
    "slideshow": {
     "slide_type": "subslide"
    }
   },
   "source": [
    "- Here's what the data actually means, all I did was change the names of the columns:\n",
    "\n",
    "| Current Column Name | Actual Column Name |\n",
    "|---------------------|--------------------|\n",
    "| Number of Points    | Prior Arrests                   |\n",
    "| Brightness          | Age                   |\n",
    "| Curve               | Sex                   |\n",
    "| Up_Down             | Re-offense committed (recidivism)                   |"
   ]
  },
  {
   "cell_type": "markdown",
   "id": "a3b574c6",
   "metadata": {
    "slideshow": {
     "slide_type": "fragment"
    }
   },
   "source": [
    "- Now let's re-evaluate the algorithm performance (63%) with this contextual information."
   ]
  },
  {
   "cell_type": "markdown",
   "id": "e0175654",
   "metadata": {
    "slideshow": {
     "slide_type": "fragment"
    }
   },
   "source": [
    "- When we changed the context, we started to look beyond numbers, and saw human beings instead.\n"
   ]
  },
  {
   "cell_type": "markdown",
   "id": "bc2884e2",
   "metadata": {
    "slideshow": {
     "slide_type": "fragment"
    }
   },
   "source": [
    "- Consider your choices carefully - they may seem inoccuous initially, but hiding behind black box algorithms and deploying weapons of Math Destruction without appropriately scrutinizing the underlying data is DANGEROUS!\n"
   ]
  },
  {
   "cell_type": "markdown",
   "id": "6745a2f7-5144-42e4-b55b-6a22a9f6ed52",
   "metadata": {
    "slideshow": {
     "slide_type": "fragment"
    }
   },
   "source": [
    "\n",
    "- \"Data\" is not a panacea or a magical cure-all ; it's not biased in itself but it **does** reflect the biases, oppressions, systemic inequties within our society."
   ]
  },
  {
   "cell_type": "markdown",
   "id": "19a084ad-f003-417f-8fb4-398245a9e6b3",
   "metadata": {
    "slideshow": {
     "slide_type": "slide"
    }
   },
   "source": [
    "## Preview of Next week (1 min)\n",
    "\n",
    "Over the next few weeks in lectures and labs we will:"
   ]
  },
  {
   "cell_type": "markdown",
   "id": "37ee2005-a093-4be3-bd20-68e5cccf0117",
   "metadata": {
    "slideshow": {
     "slide_type": "fragment"
    }
   },
   "source": [
    "- carefully reproduce the Propublica analysis by treating the Northpointe algorithm as a binary classifier."
   ]
  },
  {
   "cell_type": "markdown",
   "id": "5188e4ea-5548-43b1-9d5f-41c6a4821e39",
   "metadata": {
    "slideshow": {
     "slide_type": "fragment"
    }
   },
   "source": [
    "- analyze what it means for an algorithm to be \"fair\"."
   ]
  },
  {
   "cell_type": "markdown",
   "id": "9e0724b3-7dd3-46ca-8a80-a3a68753e0e6",
   "metadata": {
    "slideshow": {
     "slide_type": "fragment"
    }
   },
   "source": [
    "- look at Northpointe's response, and those of some other academics about this issue."
   ]
  },
  {
   "cell_type": "markdown",
   "id": "432775ae-836d-4215-a380-d49105387465",
   "metadata": {
    "slideshow": {
     "slide_type": "fragment"
    }
   },
   "source": [
    "- consider metrics beyond simple \"accuracy\"."
   ]
  },
  {
   "cell_type": "markdown",
   "id": "d1805fb4-d708-4ec2-b7a4-4b59589e06ec",
   "metadata": {
    "slideshow": {
     "slide_type": "fragment"
    }
   },
   "source": [
    "- learn some more sophisticated ML algorithms to see if we can remove bias (**Spoiler Alert: We will fail spectacularly!**)"
   ]
  },
  {
   "cell_type": "markdown",
   "id": "0fe434af-50f9-4caf-b887-8800c09fbcfa",
   "metadata": {
    "slideshow": {
     "slide_type": "slide"
    }
   },
   "source": [
    "## Summary (5 mins)\n",
    "\n",
    "- Intuition on classification with Machine Learning\n",
    "- Summary of kNN method\n",
    "- Checking the accuracy of our classifier\n",
    "- Importance of Context"
   ]
  },
  {
   "cell_type": "markdown",
   "id": "5d497a5c-7cba-4d2a-b0d3-4ccdca720e2f",
   "metadata": {
    "slideshow": {
     "slide_type": "fragment"
    }
   },
   "source": [
    "<img src=\"https://www.sap.com/dam/application/shared/graphics/what-is-machine-learning-process.svg\" width=100%>\n",
    "\n",
    "**Caption**: General workflow of the Machine Learning process. Image is copyright of [SAP Insights](https://www.sap.com/canada/insights/what-is-machine-learning.html), used under the education copyright exception."
   ]
  },
  {
   "cell_type": "markdown",
   "id": "a5abe1b1-725f-4c91-aaa3-7b6566cf0081",
   "metadata": {
    "slideshow": {
     "slide_type": "fragment"
    }
   },
   "source": [
    "<img src =\"imgs/knn.png\" width=60%>\n",
    "\n",
    "**Caption**: Pictoral description of the kNN algorithm, with three different classes (A, B, C) and a test point ($P_t$). The $k$ nearest neighbours of $P_t$ dictates which class the point belongs to. Source: {cite}`Atallah:2019`"
   ]
  },
  {
   "cell_type": "markdown",
   "id": "75f34394-7901-40db-9eea-77f7c00fadd3",
   "metadata": {
    "hideCode": false,
    "hidePrompt": false,
    "slideshow": {
     "slide_type": "slide"
    },
    "tags": []
   },
   "source": [
    "## Summary of Learning Intentions"
   ]
  },
  {
   "cell_type": "markdown",
   "id": "c71e46bb-b8eb-4764-8505-232a37a55f78",
   "metadata": {
    "hideCode": false,
    "hidePrompt": false,
    "slideshow": {
     "slide_type": "fragment"
    }
   },
   "source": [
    "- Develop intuition about classification using machine learning.\n",
    "\n",
    "- Identify the general steps of classification using machine learning.\n",
    "\n",
    "- Summarize the kNN algorithm and examine its advantages and limitations.\n",
    "\n",
    "- Critically evaluate the machine learning process and consider the importance of making human-centered choices."
   ]
  },
  {
   "cell_type": "markdown",
   "id": "b73f4ff6-3a28-480a-8b70-2671660d8750",
   "metadata": {
    "slideshow": {
     "slide_type": "slide"
    },
    "tags": []
   },
   "source": [
    "## Activity: You Try (homework)\n",
    "\n",
    "- Task 1: Use the same training data and increase the number of \"neighbours\", or the $k$ value.\n",
    "\n",
    "- Task 2: Compute performance metrics of the new prediction.\n",
    "\n",
    "- Task 3: Write a loop to do this classification for all $k$ values from 1 to $N$ where $N$ is the total number of data points.\n",
    "    - Plot the accuracy vs. $N$; for which $k$ value is the accuracy highest?\n",
    "\n",
    "We will briefly review these tasks at the start of next class!"
   ]
  },
  {
   "cell_type": "markdown",
   "id": "c3596045-eb02-4c3c-beee-36829d23f793",
   "metadata": {},
   "source": [
    "### Acknowledgements\n",
    "\n",
    "- UC Berkeley Foundations of Data Science Data8 course notes, in particular [David Wagner's chapter on Classification](https://inferentialthinking.com/chapters/17/Classification.html).\n",
    "\n",
    "- [ProPublica article](https://www.propublica.org/article/machine-bias-risk-assessments-in-criminal-sentencing) that inspired this class.\n",
    "\n",
    "- [Allen Downey's Recidivism Case Study](https://allendowney.github.io/RecidivismCaseStudy/index.html).\n",
    "\n",
    "- UBC's [Mike Gelbart's video lectures on KNN](https://www.youtube.com/watch?v=JRF6oELLn0M&list=PLWmXHcz_53Q02ZLeAxigki1JZFfCO6M-b&index=4)."
   ]
  },
  {
   "cell_type": "markdown",
   "id": "559100a4-92e5-41be-ab3d-5ce56a45dde0",
   "metadata": {
    "slideshow": {
     "slide_type": "skip"
    },
    "tags": []
   },
   "source": [
    "### Extending kNN\n",
    "\n",
    "- We've only talked about two different classes (up or down) with just two input variables (Number of points and Brightness).\n",
    "\n",
    "- It's a bit harder to imagine in multiple dimensions, but here is what the picture looks like in 3 dimensions:\n",
    "\n",
    "<img src=\"https://inferentialthinking.com/_images/Implementing_the_Classifier_12_0.png\" width=60%>\n",
    "\n",
    "**Caption**: Visualization of points in 3-dimensional space with three input variables and two classes. Source: [Computational and Inferential Thinking: The Foundations of Data Science](https://inferentialthinking.com/chapters/intro.html) by Ani Adhikari, John DeNero, David Wagner distributed under a CC BY-NC-ND 4.0 license."
   ]
  },
  {
   "cell_type": "markdown",
   "id": "e5127d20-9ef2-47b1-ac57-982a9f8d5b56",
   "metadata": {
    "slideshow": {
     "slide_type": "skip"
    }
   },
   "source": [
    "- To calculate the Euclidean distance between two points in three dimensions with points , we just extend the 2D formula.\n",
    "\n",
    "- For two points in 3D space, $P_C$($x_1$,$y_1$,$z_1$) and $P_D$($x_2$,$y_2$,$z_2$):\n",
    "\n",
    "    - $d = \\sqrt{ (x_2 - x_1)^2 + (y_2 - y_1)^2 + (z_2 - z_1)^2}$\n",
    "\n",
    "\n",
    "- And so on... for points in N-dimensions"
   ]
  }
 ],
 "metadata": {
  "celltoolbar": "Slideshow",
  "kernelspec": {
   "display_name": "Python 3 (ipykernel)",
   "language": "python",
   "name": "python3"
  },
  "language_info": {
   "codemirror_mode": {
    "name": "ipython",
    "version": 3
   },
   "file_extension": ".py",
   "mimetype": "text/x-python",
   "name": "python",
   "nbconvert_exporter": "python",
   "pygments_lexer": "ipython3",
   "version": "3.10.2"
  },
  "toc-showtags": false
 },
 "nbformat": 4,
 "nbformat_minor": 5
}

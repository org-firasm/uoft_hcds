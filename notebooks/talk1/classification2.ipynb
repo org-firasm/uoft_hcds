{
 "cells": [
  {
   "cell_type": "markdown",
   "id": "fa91d356-6896-4dac-905a-200bf6c262e6",
   "metadata": {},
   "source": [
    "# Introduction to Classification II"
   ]
  },
  {
   "cell_type": "markdown",
   "id": "fdf7ce77-c79f-44f3-978b-be885b0e4600",
   "metadata": {},
   "source": [
    "## Summary of Last Class (5 mins)"
   ]
  },
  {
   "cell_type": "markdown",
   "id": "06ff7fb2-d509-4416-b912-dc718659d02f",
   "metadata": {},
   "source": [
    "- Intuition on classification with Machine Learning\n",
    "- Summary of kNN method\n",
    "- Checking the accuracy of our classifier\n",
    "- Importance of Context"
   ]
  },
  {
   "cell_type": "markdown",
   "id": "3fca3aac-9c6b-4e84-bafd-509b277315d5",
   "metadata": {},
   "source": [
    "<img src=\"https://www.sap.com/dam/application/shared/graphics/what-is-machine-learning-process.svg\" width=100%>\n",
    "\n",
    "**Caption**: General workflow of the Machine Learning process. Image is copyright of [SAP Insights](https://www.sap.com/canada/insights/what-is-machine-learning.html), used under the education copyright exception."
   ]
  },
  {
   "cell_type": "markdown",
   "id": "b64b70a0-24da-4781-afa9-c32e76c84948",
   "metadata": {},
   "source": [
    "<img src =\"imgs/knn.png\" width=60%>\n",
    "\n",
    "**Caption**: Pictoral description of the kNN algorithm, with three different classes (A, B, C) and a test point ($P_t$). The $k$ nearest neighbours of $P_t$ dictates which class the point belongs to. Source: {cite}`Atallah:2019`"
   ]
  },
  {
   "cell_type": "markdown",
   "id": "7a3e0f77-cfa0-46c0-825f-9b3bf16cc96c",
   "metadata": {
    "hideCode": false,
    "hidePrompt": false,
    "slideshow": {
     "slide_type": "slide"
    },
    "tags": []
   },
   "source": [
    "## Summary of Learning Intentions"
   ]
  },
  {
   "cell_type": "markdown",
   "id": "3db37681-4817-4eea-bfc9-da59fb692434",
   "metadata": {
    "hideCode": false,
    "hidePrompt": false,
    "slideshow": {
     "slide_type": "fragment"
    }
   },
   "source": [
    "- Develop intuition about classification using machine learning."
   ]
  },
  {
   "cell_type": "markdown",
   "id": "7f265f7d-e060-493f-a5e8-62725a743e59",
   "metadata": {
    "hideCode": false,
    "hidePrompt": false,
    "slideshow": {
     "slide_type": "fragment"
    }
   },
   "source": [
    "- Identify the general steps of classification using machine learning."
   ]
  },
  {
   "cell_type": "markdown",
   "id": "967e9c65-f519-49ee-90d6-0df2b04747d6",
   "metadata": {
    "hideCode": false,
    "hidePrompt": false,
    "slideshow": {
     "slide_type": "fragment"
    }
   },
   "source": [
    "- Summarize the kNN algorithm and examine its advantages and limitations."
   ]
  },
  {
   "cell_type": "markdown",
   "id": "95979594-3846-4058-9323-aee679382bad",
   "metadata": {
    "hideCode": false,
    "hidePrompt": false,
    "slideshow": {
     "slide_type": "fragment"
    }
   },
   "source": [
    "- Critically evaluate the machine learning process and consider the importance of making human-centered choices."
   ]
  },
  {
   "cell_type": "markdown",
   "id": "420da768-503e-4e8d-9123-8b3c0ec884ae",
   "metadata": {
    "tags": []
   },
   "source": [
    "## Recap of Activity: You Try (homework)\n",
    "\n",
    "- Task 1: Use the same training data and increase the number of \"neighbours\", or the $k$ value.\n",
    "\n",
    "- Task 2: Compute performance metrics of the new prediction.\n",
    "\n",
    "- Task 3: Try adding the \"curve\" variable to the input data and re-train the model. Does it perform better?\n",
    "\n",
    "- Task 4: Write a loop to do this classification for all $k$ values from 1 to $N$ where $N$ is the total number of data points.\n",
    "    - Plot the accuracy vs. $N$; for which $k$ value is the accuracy highest?\n",
    "\n",
    "\n",
    "We will briefly review these tasks at the start of next class!"
   ]
  },
  {
   "cell_type": "markdown",
   "id": "fc57528f-1bab-44e4-98fc-c0dc4867b2cb",
   "metadata": {
    "tags": []
   },
   "source": [
    "### Extending kNN (2 mins)\n",
    "\n",
    "- So far we've only talked about two different classes (up or down) with just two input variables (Number of points and Brightness).\n",
    "\n",
    "- It's a bit harder to imagine in multiple dimensions, but here is what the picture looks like in 3 dimensions:\n",
    "\n",
    "<img src=\"https://inferentialthinking.com/_images/Implementing_the_Classifier_12_0.png\" width=60%>\n",
    "\n",
    "**Caption**: Visualization of points in 3-dimensional space with three input variables and two classes. Source: [Computational and Inferential Thinking: The Foundations of Data Science](https://inferentialthinking.com/chapters/intro.html) by Ani Adhikari, John DeNero, David Wagner distributed under a CC BY-NC-ND 4.0 license."
   ]
  },
  {
   "cell_type": "markdown",
   "id": "e01b765a-3bd0-4578-b857-da07dfa3af1f",
   "metadata": {},
   "source": [
    "- To calculate the Euclidean distance between two points in three dimensions with points , we just extend the 2D formula.\n",
    "\n",
    "- For two points in 3D space, $P_C$($x_1$,$y_1$,$z_1$) and $P_D$($x_2$,$y_2$,$z_2$):\n",
    "\n",
    "    - $d = \\sqrt{ (x_2 - x_1)^2 + (y_2 - y_1)^2 + (z_2 - z_1)^2}$\n",
    "\n",
    "\n",
    "- And so on... for points in N-dimensions"
   ]
  },
  {
   "cell_type": "markdown",
   "id": "f82f5a3a-e8b7-4714-bf8f-ab35266f5157",
   "metadata": {},
   "source": [
    "## Beyond \"accuracy\" (10 mins)\n",
    "\n",
    "- Right and Wrong seem insufficient... "
   ]
  },
  {
   "cell_type": "markdown",
   "id": "25875f74-cb10-4070-a622-63f29daadefd",
   "metadata": {},
   "source": [
    "### Activity: Brainstorm (2 mins)\n",
    "\n",
    "- What are some analysis we can do to understand the *impact* of our classifier?\n",
    "    - Hint: keep it simple!"
   ]
  },
  {
   "cell_type": "code",
   "execution_count": null,
   "id": "8bb95b2d-c22c-435f-a988-b6a69dc9d4da",
   "metadata": {},
   "outputs": [],
   "source": []
  },
  {
   "cell_type": "markdown",
   "id": "08b16d70-fe99-480b-ac86-758975b0db4e",
   "metadata": {},
   "source": [
    "### Common metrics (7 mins)\n",
    "\n",
    "- Accuracy\n",
    "- Sensitivity\n",
    "- Specificity \n",
    "- Precision\n",
    "- f-score"
   ]
  },
  {
   "cell_type": "markdown",
   "id": "9ce9e808-af3b-4271-b0ec-07083ebb2343",
   "metadata": {},
   "source": [
    "### Other Metrics (1 min)\n",
    "\n",
    "- We'll talk about some other metrics as we go through the course and they become more relevant (warning: there are lots!!)"
   ]
  }
 ],
 "metadata": {
  "kernelspec": {
   "display_name": "Python 3 (ipykernel)",
   "language": "python",
   "name": "python3"
  },
  "language_info": {
   "codemirror_mode": {
    "name": "ipython",
    "version": 3
   },
   "file_extension": ".py",
   "mimetype": "text/x-python",
   "name": "python",
   "nbconvert_exporter": "python",
   "pygments_lexer": "ipython3",
   "version": "3.10.2"
  }
 },
 "nbformat": 4,
 "nbformat_minor": 5
}

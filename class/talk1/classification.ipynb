{
 "cells": [
  {
   "cell_type": "markdown",
   "id": "a03c270f-f62c-4e90-8f66-0a821216d9e3",
   "metadata": {
    "hideCode": false,
    "hidePrompt": false,
    "slideshow": {
     "slide_type": "slide"
    }
   },
   "source": [
    "# Introduction to Classification using Machine Learning\n",
    "\n",
    "<img src=\"imgs/brain_learning.jpg\">\n",
    "\n",
    "<p style=\"text-align:left;\">\n",
    "    <a href=\"https://pixabay.com/illustrations/brain-chip-neurons-machine-learning-6010961/\">Photo Credit: Pixabay</a>\n",
    "    <span style=\"float:right;\">\n",
    "        March 21, 2022 <br>\n",
    "        Firas Moosvi\n",
    "    </span>\n",
    "</p>"
   ]
  },
  {
   "cell_type": "markdown",
   "id": "8c114734-4b99-471f-9b3b-aede92edfcf0",
   "metadata": {
    "tags": []
   },
   "source": [
    "## Learning Context\n",
    "\n",
    "<center>\n",
    "<img src=\"imgs/avatars.jpg\" width=50%>\n",
    "</center>"
   ]
  },
  {
   "cell_type": "markdown",
   "id": "93ee9921-7133-4316-81c4-fa98936e304c",
   "metadata": {
    "cell_style": "center",
    "hideCode": false,
    "hidePrompt": false,
    "slideshow": {
     "slide_type": "subslide"
    }
   },
   "source": [
    "## Learning Context: INF 2179 H\n",
    "\n",
    "- **Academic program**: \n",
    "    - Year 2 of the iSchool Master of Information program\n",
    "    - Concentration: Primarily HCDS students, some UXD, and C&T"
   ]
  },
  {
   "cell_type": "markdown",
   "id": "57d22c17-0827-4f73-999e-5b23765f0554",
   "metadata": {
    "cell_style": "center",
    "hideCode": false,
    "hidePrompt": false,
    "slideshow": {
     "slide_type": "subslide"
    }
   },
   "source": [
    "- **Pre-requisites**: \n",
    "    - INF1340H Programming for Data Science"
   ]
  },
  {
   "cell_type": "markdown",
   "id": "37a951c6-40a6-4fb7-8af8-d7df44dca771",
   "metadata": {},
   "source": [
    "- **Course Schedule**:\n",
    "    - Week 1: Review of Python\n",
    "    - Week 2: Loading and cleaning data\n",
    "    - Week 3: Data wrangling\n",
    "    - Week 4: This lesson (Introduction to Classification)"
   ]
  },
  {
   "cell_type": "markdown",
   "id": "8ad43002-98e6-4323-95d6-81932b98321d",
   "metadata": {
    "cell_style": "center",
    "hideCode": false,
    "hidePrompt": false,
    "slideshow": {
     "slide_type": "fragment"
    }
   },
   "source": [
    "- **Programming Experience**:\n",
    "  - Least experienced: Two terms of working in Python and R sporadically\n",
    "  - Most experienced:  Worked in software industry for 2+ years\n",
    "  - ~ 50 students in the class"
   ]
  },
  {
   "cell_type": "markdown",
   "id": "b0407c47-5c0c-4b42-8622-f57db768f792",
   "metadata": {
    "cell_style": "center",
    "hideCode": false,
    "hidePrompt": false,
    "slideshow": {
     "slide_type": "fragment"
    }
   },
   "source": [
    "- **Student Motivations**:\n",
    "    - Elective course\n",
    "    - Almost everyone in here wants to be here and is excited to learn more!"
   ]
  },
  {
   "cell_type": "markdown",
   "id": "8dc46e6e-2f9d-4525-97c4-0f17e8064d78",
   "metadata": {
    "hideCode": false,
    "hidePrompt": false,
    "slideshow": {
     "slide_type": "slide"
    }
   },
   "source": [
    "## Learning Intentions"
   ]
  },
  {
   "cell_type": "markdown",
   "id": "818ee1b2-c490-47b0-b753-3914ecf8bc72",
   "metadata": {
    "hideCode": false,
    "hidePrompt": false,
    "slideshow": {
     "slide_type": "fragment"
    }
   },
   "source": [
    "- Explain the difference between declarative and imperative syntax"
   ]
  },
  {
   "cell_type": "markdown",
   "id": "818ab7e9-536a-44e3-8f1e-e2cf6d70c6a7",
   "metadata": {
    "hideCode": false,
    "hidePrompt": false,
    "slideshow": {
     "slide_type": "fragment"
    }
   },
   "source": [
    "- Describe the 6 components of the visualization grammar"
   ]
  },
  {
   "cell_type": "markdown",
   "id": "be7e54d4-a3af-4be7-b0db-41a278d26351",
   "metadata": {
    "hideCode": false,
    "hidePrompt": false,
    "slideshow": {
     "slide_type": "fragment"
    }
   },
   "source": [
    "- Construct data visualizations using Altair"
   ]
  },
  {
   "cell_type": "markdown",
   "id": "0e76fcba-1fc1-473c-96f9-2f0a5dcd72b1",
   "metadata": {
    "hideCode": false,
    "hidePrompt": false,
    "slideshow": {
     "slide_type": "fragment"
    }
   },
   "source": [
    "- Add interactivity to Altair plots"
   ]
  },
  {
   "cell_type": "markdown",
   "id": "ff5bbf71-fb77-42bb-a239-94ae9dd60452",
   "metadata": {
    "hideCode": false,
    "hidePrompt": false,
    "slideshow": {
     "slide_type": "fragment"
    }
   },
   "source": [
    "- Start critically evaluate data visualizations"
   ]
  },
  {
   "cell_type": "markdown",
   "id": "2289c326-6f5e-4008-b486-0bb563137ec7",
   "metadata": {
    "cell_style": "center",
    "hideCode": false,
    "hidePrompt": false,
    "slideshow": {
     "slide_type": "subslide"
    }
   },
   "source": [
    "### Starting with the punchline!\n",
    "\n",
    "By the end of this lecture today, you will learn how to:"
   ]
  },
  {
   "cell_type": "code",
   "execution_count": null,
   "id": "cd1f26bc-3314-4ee1-b1aa-df6507d4e65c",
   "metadata": {},
   "outputs": [],
   "source": []
  }
 ],
 "metadata": {
  "kernelspec": {
   "display_name": "Python 3 (ipykernel)",
   "language": "python",
   "name": "python3"
  },
  "language_info": {
   "codemirror_mode": {
    "name": "ipython",
    "version": 3
   },
   "file_extension": ".py",
   "mimetype": "text/x-python",
   "name": "python",
   "nbconvert_exporter": "python",
   "pygments_lexer": "ipython3",
   "version": "3.10.2"
  }
 },
 "nbformat": 4,
 "nbformat_minor": 5
}

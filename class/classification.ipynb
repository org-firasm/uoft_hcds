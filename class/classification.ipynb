{
 "cells": [
  {
   "cell_type": "markdown",
   "id": "321fa9ba-9c7f-4791-967b-870abf32ddc3",
   "metadata": {},
   "source": [
    "# Lecture 1 - Classification"
   ]
  },
  {
   "cell_type": "markdown",
   "id": "eb60e522-5d07-45e0-a8a1-e55d60a26a7e",
   "metadata": {},
   "source": [
    "## Introduction\n",
    "\n",
    "Lecture 1: \n",
    "\n",
    "- introduction to classification using machine learning (focus on technical understanding but also about biases, unintended consequence etc)\n",
    " \n",
    "- Not only is the focus on technical features and understanding but also on the critical and social aspects of biases in classification models,ethics, unintended consequences etc\n",
    " \n",
    "Lecture 2:\n",
    "\n",
    "- any topic related to HCDS of your choice that is accessible to a professional masters student in human centered data science"
   ]
  },
  {
   "cell_type": "markdown",
   "id": "21284a01-d0ea-4f7b-b6da-79f20f3e9a3a",
   "metadata": {},
   "source": [
    "## Ideas\n",
    "\n",
    "- start with showing pictures of <something> to the audience with no prior information, tell them after each guess if it's right or wrong\n",
    "    \n",
    "- record class accuracy over time to show that things are getting better over time\n",
    "    \n",
    "- Say that this is \"training data\" and you're all trying to look at attributes of the picture I'm showing you, size: \n",
    "    \n",
    "- Big idea: \"morph\" the innoccuous data into recidivism to make the point about how context matters"
   ]
  },
  {
   "cell_type": "code",
   "execution_count": null,
   "id": "de629c99-8ada-4310-aaa3-857ecb945dc8",
   "metadata": {},
   "outputs": [],
   "source": []
  }
 ],
 "metadata": {
  "kernelspec": {
   "display_name": "Python 3 (ipykernel)",
   "language": "python",
   "name": "python3"
  },
  "language_info": {
   "codemirror_mode": {
    "name": "ipython",
    "version": 3
   },
   "file_extension": ".py",
   "mimetype": "text/x-python",
   "name": "python",
   "nbconvert_exporter": "python",
   "pygments_lexer": "ipython3",
   "version": "3.10.2"
  }
 },
 "nbformat": 4,
 "nbformat_minor": 5
}
